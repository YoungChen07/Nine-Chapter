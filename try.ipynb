{
 "cells": [
  {
   "cell_type": "code",
   "execution_count": null,
   "metadata": {},
   "outputs": [],
   "source": [
    "#include <iostream>\n",
    "#include <vector>\n",
    "#include <unordered_map>\n",
    "#include <string>\n",
    "using namespace std;\n",
    "\n",
    "    int get_sum(int begin, int end){\n",
    "        return (end*(end+1)/2)-(begin*(begin+1)/2);\n",
    "    }\n",
    "\n",
    "    bool subarray_Sum(vector<int>& nums, int target) {\n",
    "        unordered_map<int, int> hash;\n",
    "        for (int i = 0; i < nums.size(); i++) {\n",
    "            int sum = get_sum(nums[0],nums[i]);\n",
    "            if (hash.find(sum - target) != hash.end()) \n",
    "                return true;\n",
    "            else{\n",
    "                hash[sum] = i;\n",
    "            };\n",
    "            \n",
    "        };\n",
    "        return false;\n",
    "    }\n",
    "\n",
    "\n",
    "int main()\n",
    "{   \n",
    "    vector<int> A;\n",
    "    A.push_back(2);\n",
    "    A.push_back(3);\n",
    "    A.push_back(4);\n",
    "    A.push_back(5);\n",
    "    A.push_back(6);\n",
    "    int target = 9;\n",
    "    bool result = subarray_Sum(A, target);\n",
    "    string s;\n",
    "    if (result == false)\n",
    "        s = \"False\";\n",
    "    else\n",
    "        s = \"True\";\n",
    "    cout<<s<<endl;\n",
    "\n",
    "    return 0;\n",
    "}"
   ]
  },
  {
   "cell_type": "code",
   "execution_count": null,
   "metadata": {},
   "outputs": [],
   "source": []
  }
 ],
 "metadata": {
  "kernelspec": {
   "display_name": "Python 3",
   "language": "python",
   "name": "python3"
  },
  "language_info": {
   "codemirror_mode": {
    "name": "ipython",
    "version": 3
   },
   "file_extension": ".py",
   "mimetype": "text/x-python",
   "name": "python",
   "nbconvert_exporter": "python",
   "pygments_lexer": "ipython3",
   "version": "3.6.7"
  }
 },
 "nbformat": 4,
 "nbformat_minor": 2
}
