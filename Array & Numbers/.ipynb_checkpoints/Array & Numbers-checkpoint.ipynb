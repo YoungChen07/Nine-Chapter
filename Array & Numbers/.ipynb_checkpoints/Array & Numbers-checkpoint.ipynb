{
 "cells": [
  {
   "cell_type": "markdown",
   "metadata": {},
   "source": [
    "推荐 blog:\n",
    "\n",
    "https://mnmunknown.gitbooks.io/algorithm-notes/content/626,_dong_tai_gui_hua_ff0c_subarray_lei.html"
   ]
  },
  {
   "cell_type": "markdown",
   "metadata": {},
   "source": [
    "### Lintcode 138. Subarray Sum\n",
    "\n",
    "https://www.lintcode.com/problem/subarray-sum/description"
   ]
  },
  {
   "cell_type": "code",
   "execution_count": 14,
   "metadata": {},
   "outputs": [],
   "source": [
    "class Solution:\n",
    "    \"\"\"\n",
    "    @param nums: A list of integers\n",
    "    @return: A list of integers includes the index of the first number and the index of the last number\n",
    "    \"\"\"\n",
    "    def subarraySum(self, nums):\n",
    "        prefix_hash = {0: -1}\n",
    "        prefix_sum = 0\n",
    "        for i, num in enumerate(nums):\n",
    "            prefix_sum += num\n",
    "            if prefix_sum in prefix_hash:\n",
    "                return prefix_hash[prefix_sum] + 1, i\n",
    "            prefix_hash[prefix_sum] = i\n",
    "            \n",
    "        return -1, -1\n"
   ]
  },
  {
   "cell_type": "code",
   "execution_count": null,
   "metadata": {},
   "outputs": [],
   "source": [
    "class Solution {\n",
    "public:\n",
    "    vector<int> subarraySum(vector<int> nums){\n",
    "        unordered_map<int, int> hash;\n",
    "        \n",
    "        int sum = 0;\n",
    "        hash[0] = -1;\n",
    "        for (int i = 0; i < nums.size(); i++) {\n",
    "            sum += nums[i];\n",
    "            if (hash.find(sum) != hash.end()) {\n",
    "                vector<int> result;\n",
    "                result.push_back(hash[sum] + 1);\n",
    "                result.push_back(i);\n",
    "                return result;\n",
    "            }\n",
    "            hash[sum] = i;\n",
    "        }\n",
    "        \n",
    "        vector<int> result;\n",
    "        return result;\n",
    "    }\n",
    "};"
   ]
  },
  {
   "cell_type": "markdown",
   "metadata": {},
   "source": [
    "### 88. Merge Sorted Array\n",
    "\n",
    "https://leetcode.com/problems/merge-sorted-array/"
   ]
  },
  {
   "cell_type": "code",
   "execution_count": null,
   "metadata": {},
   "outputs": [],
   "source": [
    "class Solution(object):\n",
    "    def merge(self, nums1, m, nums2, n):\n",
    "        \"\"\"\n",
    "        :type nums1: List[int]\n",
    "        :type m: int\n",
    "        :type nums2: List[int]\n",
    "        :type n: int\n",
    "        :rtype: void Do not return anything, modify nums1 in-place instead.\n",
    "        \"\"\"\n",
    "        p1 = m-1\n",
    "        p2 = n-1\n",
    "        for i in range(m+n-1, -1, -1):\n",
    "            if p1 >=0 and p2 >= 0:\n",
    "                if nums1[p1] <= nums2[p2]:\n",
    "                    nums1[i] = nums2[p2]\n",
    "                    p2 = p2 -1\n",
    "                else:\n",
    "                    nums1[i] = nums1[p1]\n",
    "                    p1 = p1 -1\n",
    "            else:\n",
    "                break\n",
    "        if p1 < 0 and p2 >= 0:\n",
    "            nums1[0:p2+1] = nums2[0: p2+1]"
   ]
  },
  {
   "cell_type": "code",
   "execution_count": null,
   "metadata": {},
   "outputs": [],
   "source": [
    "class Solution {\n",
    "public:\n",
    "    /**\n",
    "     * @param A: sorted integer array A which has m elements, \n",
    "     *           but size of A is m+n\n",
    "     * @param B: sorted integer array B which has n elements\n",
    "     * @return: void\n",
    "     */\n",
    "    void mergeSortedArray(int A[], int m, int B[], int n) {\n",
    "        int pos = m + n - 1 , i = m - 1 , j = n - 1;\n",
    "        while (i >= 0 && j >= 0)\n",
    "            A[pos--] = A[i] > B[j] ? A[i--] : B[j--];\n",
    "        while (i >= 0)\n",
    "            A[pos--] = A[i--];\n",
    "        while (j >= 0)\n",
    "            A[pos--] = B[j--];\n",
    "    }\n",
    "};"
   ]
  },
  {
   "cell_type": "markdown",
   "metadata": {},
   "source": [
    "### 53. Maximum Subarray\n",
    "\n",
    "https://leetcode.com/problems/maximum-subarray/\n"
   ]
  },
  {
   "cell_type": "code",
   "execution_count": null,
   "metadata": {},
   "outputs": [],
   "source": [
    "class Solution:\n",
    "    \"\"\"\n",
    "    @param nums: A list of integers\n",
    "    @return: A integer indicate the sum of max subarray\n",
    "    \"\"\"\n",
    "    def maxSubArray(self, nums):\n",
    "        min_sum, max_sum = 0, -sys.maxsize\n",
    "        prefix_sum = 0\n",
    "        \n",
    "        for num in nums:\n",
    "            prefix_sum += num\n",
    "            max_sum = max(max_sum, prefix_sum - min_sum)\n",
    "            min_sum = min(min_sum, prefix_sum)\n",
    "            \n",
    "        return max_sum"
   ]
  },
  {
   "cell_type": "code",
   "execution_count": null,
   "metadata": {},
   "outputs": [],
   "source": [
    "class Solution:\n",
    "    \"\"\"\n",
    "    @param nums: A list of integers\n",
    "    @return: A integer indicate the sum of max subarray\n",
    "    \"\"\"\n",
    "    def maxSubArray(self, nums):\n",
    "        max_so_far = nums[0]\n",
    "        max_ending_here = nums[0]\n",
    "        for i in range(1, len(nums)):\n",
    "            max_ending_here = max(nums[i], nums[i] + max_ending_here)\n",
    "            max_so_far = max(max_so_far, max_ending_here)         \n",
    "        return max_so_far"
   ]
  },
  {
   "cell_type": "code",
   "execution_count": null,
   "metadata": {},
   "outputs": [],
   "source": [
    "class Solution {\n",
    "public:    \n",
    "    int maxSubArray(vector<int> nums) {\n",
    "        int sum = 0, minSum = 0, maxSum = INT_MIN;\n",
    "        for (int i = 0; i < nums.size(); i++) {\n",
    "            sum += nums[i];\n",
    "            maxSum = max(maxSum, sum - minSum);\n",
    "            minSum = min(minSum, sum);\n",
    "        }\n",
    "        return maxSum;\n",
    "    }\n",
    "};"
   ]
  },
  {
   "cell_type": "markdown",
   "metadata": {},
   "source": [
    "### Sort Color\n",
    "\n",
    "https://leetcode.com/problems/sort-colors/"
   ]
  },
  {
   "cell_type": "markdown",
   "metadata": {},
   "source": [
    "使用一次扫描的办法。\n",
    "设立三根指针，left, index, right。定义如下规则：\n",
    "\n",
    "left 的左侧都是 0（不含 left）\n",
    "right 的右侧都是 2（不含 right）\n",
    "index 从左到右扫描每个数，如果碰到 0 就丢给 left，碰到 2 就丢给 right。碰到 1 就跳过不管。"
   ]
  },
  {
   "cell_type": "code",
   "execution_count": null,
   "metadata": {},
   "outputs": [],
   "source": [
    "class Solution(object):\n",
    "    def sortColors(self, nums):\n",
    "        \"\"\"\n",
    "        :type nums: List[int]\n",
    "        :rtype: void Do not return anything, modify nums in-place instead.\n",
    "        \"\"\"\n",
    "        pleft = 0\n",
    "        pright = len(nums)-1\n",
    "        i = 0\n",
    "        # be careful, index < right is not correct\n",
    "        while i<= pright:\n",
    "            if nums[i] < 1:\n",
    "                nums[i], nums[pleft] = nums[pleft],nums[i]\n",
    "                pleft = pleft + 1\n",
    "                i = i+1 \n",
    "            elif nums[i] > 1:\n",
    "                nums[i], nums[pright] = nums[pright],nums[i]\n",
    "                pright = pright -1\n",
    "                # i = i+1\n",
    "                # careful, i shouldn't +1 here\n",
    "            else:\n",
    "                i = i+1"
   ]
  },
  {
   "cell_type": "code",
   "execution_count": null,
   "metadata": {},
   "outputs": [],
   "source": [
    "# 做两次 Partition。先把0和非0分开，再把1和非1分开。\n",
    "\n",
    "class Solution(object):\n",
    "    \"\"\"\n",
    "    @param nums: A list of integer which is 0, 1 or 2 \n",
    "    @return: nothing\n",
    "    \"\"\"\n",
    "    def sortColors(self, A):\n",
    "        index = self.sort(A, 0, 0)\n",
    "        self.sort(A, 1, index)\n",
    "        \n",
    "    def sort(self, A, flag, index):\n",
    "        start, end = index, len(A) - 1\n",
    "        while start <= end:\n",
    "            while start <= end and A[start] == flag:\n",
    "                start += 1\n",
    "            while start <= end and A[end] != flag:\n",
    "                end -= 1\n",
    "            if start <= end:\n",
    "                A[start], A[end] = A[end], A[start]\n",
    "                start += 1\n",
    "                end -= 1\n",
    "        return start"
   ]
  },
  {
   "cell_type": "code",
   "execution_count": null,
   "metadata": {},
   "outputs": [],
   "source": [
    "class Solution{\n",
    "public:\n",
    "    /**\n",
    "     * @param nums: A list of integer which is 0, 1 or 2 \n",
    "     * @return: nothing\n",
    "     */    \n",
    "    void sortColors(vector<int> &nums) {\n",
    "        int left = 0, right = nums.size() - 1;\n",
    "        int middle = 0;\n",
    "        \n",
    "        // should be <= not <\n",
    "        while (middle <= right) {\n",
    "            if (nums[middle] == 0) {\n",
    "                swap(nums[middle], nums[left]);\n",
    "                left++;\n",
    "                middle++;\n",
    "            } else if (nums[middle] == 1) {\n",
    "                middle++;\n",
    "            } else {\n",
    "                swap(nums[middle], nums[right]);\n",
    "                right--;\n",
    "            }\n",
    "        }\n",
    "    }\n",
    "};"
   ]
  },
  {
   "cell_type": "markdown",
   "metadata": {},
   "source": [
    "### 283. Move Zeroes\n",
    "\n",
    "https://leetcode.com/problems/move-zeroes/"
   ]
  },
  {
   "cell_type": "markdown",
   "metadata": {},
   "source": [
    "基于 swap 的版本，无法保证写次数最小。但比较好理解。"
   ]
  },
  {
   "cell_type": "code",
   "execution_count": null,
   "metadata": {},
   "outputs": [],
   "source": [
    "class Solution:\n",
    "    \"\"\"\n",
    "    @param nums: an integer array\n",
    "    @return: nothing\n",
    "    \"\"\"\n",
    "    def moveZeroes(self, nums):\n",
    "        left, right = 0, 0\n",
    "        while right < len(nums):\n",
    "            if nums[right] != 0:\n",
    "                nums[left], nums[right] = nums[right], nums[left]\n",
    "                left += 1\n",
    "            right += 1"
   ]
  },
  {
   "cell_type": "markdown",
   "metadata": {},
   "source": [
    "这个版本可以保证最小的“写”次数。"
   ]
  },
  {
   "cell_type": "code",
   "execution_count": null,
   "metadata": {},
   "outputs": [],
   "source": [
    "class Solution:\n",
    "    \"\"\"\n",
    "    @param nums: an integer array\n",
    "    @return: nothing\n",
    "    \"\"\"\n",
    "    def moveZeroes(self, nums):\n",
    "        left, right = 0, 0\n",
    "        while right < len(nums):\n",
    "            if nums[right] != 0:\n",
    "                if left != right:\n",
    "                    nums[left] = nums[right]\n",
    "                left += 1\n",
    "            right += 1\n",
    "            \n",
    "        while left < len(nums):\n",
    "            if nums[left] != 0:\n",
    "                nums[left] = 0\n",
    "            left += 1"
   ]
  },
  {
   "cell_type": "code",
   "execution_count": null,
   "metadata": {},
   "outputs": [],
   "source": [
    "class Solution {\n",
    "public:\n",
    "    void moveZeroes(vector<int>& nums) {\n",
    "        int left = 0, right = 0;\n",
    "        while (right < nums.size()) {\n",
    "            if (nums[right]) {\n",
    "                swap(nums[left++], nums[right]);\n",
    "            }\n",
    "            right++;\n",
    "        }\n",
    "    }\n",
    "};"
   ]
  },
  {
   "cell_type": "markdown",
   "metadata": {},
   "source": [
    "### Lintcode 139. Subarray Sum Closest\n",
    "\n",
    "https://www.lintcode.com/problem/subarray-sum-closest/description"
   ]
  },
  {
   "cell_type": "code",
   "execution_count": 17,
   "metadata": {},
   "outputs": [],
   "source": [
    "class Solution:\n",
    "    \"\"\"\n",
    "    @param: nums: A list of integers\n",
    "    @return: A list of integers includes the index of the first number and the index of the last number\n",
    "    \"\"\"\n",
    "    def subarraySumClosest(self, nums):\n",
    "        prefix_sum = [(0, -1)]\n",
    "        for i, num in enumerate(nums):\n",
    "            prefix_sum.append((prefix_sum[-1][0] + num, i))\n",
    "            \n",
    "        prefix_sum.sort()\n",
    "        \n",
    "        closest, answer = sys.maxsize, []\n",
    "        for i in range(1, len(prefix_sum)):\n",
    "            if closest > prefix_sum[i][0] - prefix_sum[i - 1][0]:\n",
    "                closest = prefix_sum[i][0] - prefix_sum[i - 1][0]\n",
    "                left = min(prefix_sum[i - 1][1], prefix_sum[i][1]) + 1\n",
    "                right = max(prefix_sum[i - 1][1], prefix_sum[i][1])\n",
    "                answer = [left, right]\n",
    "        \n",
    "        return answer"
   ]
  },
  {
   "cell_type": "markdown",
   "metadata": {},
   "source": [
    "### 16. 3Sum Closest\n",
    "\n",
    "https://leetcode.com/problems/3sum-closest/"
   ]
  },
  {
   "cell_type": "code",
   "execution_count": null,
   "metadata": {},
   "outputs": [],
   "source": [
    "# for 循环最小或者最大的数之后，剩下的问题就是两数之和最接近的问题了\n",
    "class Solution(object):\n",
    "    \"\"\"\n",
    "    @param numbers: Give an array numbers of n integer\n",
    "    @param target: An integer\n",
    "    @return: return the sum of the three integers, the sum closest target.\n",
    "    \"\"\"\n",
    "    def threeSumClosest(self, numbers, target):\n",
    "        numbers.sort()\n",
    "        ans = None\n",
    "        for i in range(len(numbers)):\n",
    "            left, right = i + 1, len(numbers) - 1\n",
    "            while left < right:\n",
    "                sum_max = numbers[left] + numbers[right] + numbers[i]\n",
    "                if ans is None or abs(sum_max - target) < abs(ans - target):\n",
    "                    ans = sum_max          \n",
    "                if sum_max <= target:\n",
    "                    left += 1\n",
    "                else:\n",
    "                    right -= 1\n",
    "        return ans"
   ]
  },
  {
   "cell_type": "code",
   "execution_count": null,
   "metadata": {},
   "outputs": [],
   "source": [
    "class Solution {\n",
    "public:    \n",
    "    int threeSumClosest(vector<int> nums, int target) {\n",
    "        sort(nums.begin(), nums.end());\n",
    "        int result = nums[0] + nums[1] + nums[2];\n",
    "        for (int i = 0; i < nums.size(); i++) {\n",
    "            int start = i + 1, end = nums.size() - 1;\n",
    "            while (start < end) {\n",
    "                if (abs(result - target) > \n",
    "                        abs(nums[i] + nums[start] + nums[end] - target)) {\n",
    "                    result = nums[i] + nums[start] + nums[end];\n",
    "                }\n",
    "                if (nums[i] + nums[start] + nums[end] < target) {\n",
    "                    start++;\n",
    "                } else {\n",
    "                    end--;\n",
    "                }\n",
    "            }\n",
    "        }\n",
    "        return result;\n",
    "    }\n",
    "};"
   ]
  },
  {
   "cell_type": "markdown",
   "metadata": {},
   "source": [
    "### 1. Two Sum\n",
    "\n",
    "https://leetcode.com/problems/two-sum/"
   ]
  },
  {
   "cell_type": "code",
   "execution_count": null,
   "metadata": {},
   "outputs": [],
   "source": [
    "#先查找再赋值\n",
    "class Solution(object):\n",
    "    def twoSum(self, nums, target):\n",
    "        \"\"\"\n",
    "        :type nums: List[int]\n",
    "        :type target: int\n",
    "        :rtype: List[int]\n",
    "        \"\"\"\n",
    "        my_dict = {} \n",
    "        for i in range(len(nums)):\n",
    "            if (target - nums[i]) in my_dict:\n",
    "                return [my_dict[(target - nums[i])], i]\n",
    "            my_dict[nums[i]] = i"
   ]
  },
  {
   "cell_type": "code",
   "execution_count": null,
   "metadata": {},
   "outputs": [],
   "source": [
    "class Solution {\n",
    "public:\n",
    "    vector<int> twoSum(vector<int>& nums, int target) {\n",
    "        // hash[i]表示nums中数值为i的下标\n",
    "        unordered_map<int, int> hash;\n",
    "        vector<int> result;\n",
    "\n",
    "        // 一边循环每个数，一边加入hash表。\n",
    "        for (int i = 0; i < nums.size(); i++) {\n",
    "            if (hash.find(target - nums[i]) != hash.end()) {\n",
    "                // target - nums[i]的下标更小，放在前面\n",
    "                result.push_back(hash[target - nums[i]]);\n",
    "                result.push_back(i);\n",
    "                return result;\n",
    "            }\n",
    "            hash[nums[i]] = i;\n",
    "        }\n",
    "\n",
    "        // 无解的情况\n",
    "        result.push_back(-1);\n",
    "        result.push_back(-1);\n",
    "        return result;\n",
    "    }"
   ]
  },
  {
   "cell_type": "markdown",
   "metadata": {},
   "source": [
    "### Lintcode :42. Maximum Subarray II\n",
    "\n",
    "https://www.lintcode.com/problem/maximum-subarray-ii/description"
   ]
  },
  {
   "cell_type": "markdown",
   "metadata": {},
   "source": [
    "left[i] 代表从最左边到 i 位置所能取得的最大 subarray sum;\n",
    "\n",
    "right[i] 代表从最右边到 i 位置所能取得的最大 subarray sum;\n",
    "\n",
    "两个数组都是 global 解\n",
    "\n",
    "地址 https://mnmunknown.gitbooks.io/algorithm-notes/content/626,_dong_tai_gui_hua_ff0c_subarray_lei.html"
   ]
  },
  {
   "cell_type": "code",
   "execution_count": null,
   "metadata": {},
   "outputs": [],
   "source": [
    "class Solution:\n",
    "    \"\"\"\n",
    "    @param: nums: A list of integers\n",
    "    @return: An integer denotes the sum of max two non-overlapping subarrays\n",
    "    \"\"\"\n",
    "    def maxTwoSubArrays(self, nums):\n",
    "        # write your code here\n",
    "        if not nums:\n",
    "            return 0\n",
    "            \n",
    "        n = len(nums)\n",
    "        left = [0] * n\n",
    "        right = [0] * n\n",
    "        \n",
    "        left[0] = nums[0]\n",
    "        max_so_far = nums[0]\n",
    "        max_ending_here = nums[0]\n",
    "        for i in range(1, n):\n",
    "            max_ending_here = max(nums[i], nums[i] + max_ending_here)\n",
    "            max_so_far = max(max_so_far, max_ending_here)         \n",
    "            left[i] = max_so_far\n",
    "            \n",
    "        right[n - 1] = nums[n - 1]\n",
    "        max_so_far = nums[n - 1]\n",
    "        max_ending_here = nums[n - 1]\n",
    "        for i in range(n - 2, -1, -1):\n",
    "            max_ending_here = max(nums[i], nums[i] + max_ending_here)\n",
    "            max_so_far = max(max_so_far, max_ending_here)       \n",
    "            right[i] = max_so_far   \n",
    "        \n",
    "        res = -sys.maxint - 1\n",
    "        for i in range(n - 1):\n",
    "            res = max(res, left[i] + right[i + 1])\n",
    "        return res"
   ]
  },
  {
   "cell_type": "markdown",
   "metadata": {},
   "source": [
    "### Lintcode 31. Partition Array\n",
    "\n",
    "https://www.lintcode.com/problem/partition-array/description"
   ]
  },
  {
   "cell_type": "code",
   "execution_count": 21,
   "metadata": {},
   "outputs": [],
   "source": [
    "class Solution:\n",
    "    \"\"\"\n",
    "    @param nums: The integer array you should partition\n",
    "    @param k: An integer\n",
    "    @return: The index after partition\n",
    "    \"\"\"\n",
    "    def partitionArray(self, nums, k):\n",
    "        # write your code here\n",
    "        if len(nums)<=1:\n",
    "            return 0\n",
    "        i = 0\n",
    "        left, right = 0 , len(nums)-1\n",
    "        while i <= right:\n",
    "            if  i <=(len(nums)-1) and nums[i] < k :\n",
    "                nums[left], nums[i] = nums[i], nums[left]\n",
    "                i = i + 1\n",
    "                left = left + 1\n",
    "            if  i <=(len(nums)-1) and nums[i] >= k :\n",
    "                nums[right], nums[i] = nums[i], nums[right]\n",
    "                right = right -1 \n",
    "        \n",
    "        return left"
   ]
  },
  {
   "cell_type": "code",
   "execution_count": null,
   "metadata": {},
   "outputs": [],
   "source": [
    "\n",
    "class Solution:\n",
    "    \"\"\"\n",
    "    @param nums: The integer array you should partition\n",
    "    @param k: As description\n",
    "    @return: The index after partition\n",
    "    \"\"\"\n",
    "    def partitionArray(self, nums, k):\n",
    "        start, end = 0, len(nums) - 1\n",
    "        while start <= end:\n",
    "            while start <= end and nums[start] < k:\n",
    "                start += 1\n",
    "            while start <= end and nums[end] >= k:\n",
    "                end -= 1\n",
    "            if start <= end:\n",
    "                nums[start], nums[end] = nums[end], nums[start]\n",
    "                start += 1\n",
    "                end -= 1\n",
    "        return start"
   ]
  },
  {
   "cell_type": "markdown",
   "metadata": {},
   "source": [
    "### 915. Partition Array into Disjoint Intervals\n",
    "\n",
    "https://leetcode.com/problems/partition-array-into-disjoint-intervals/"
   ]
  },
  {
   "cell_type": "code",
   "execution_count": null,
   "metadata": {},
   "outputs": [],
   "source": [
    "# class Solution(object):\n",
    "#     def partitionDisjoint(self, A):\n",
    "#         \"\"\"\n",
    "#         :type A: List[int]\n",
    "#         :rtype: int\n",
    "#         \"\"\"\n",
    "#         left = [None]*len(A)\n",
    "#         right = [None]*len(A)\n",
    "#         for i in range(0, len(A)-1):\n",
    "#             left[i] = max(A[:i+1])\n",
    "#             right[i] = min(A[i+1:])\n",
    "#         for i in range(len(A)):\n",
    "#             if left[i] <= right [i]:\n",
    "#                 return i+1\n",
    "\n",
    "# faster than build in min and max\n",
    "class Solution(object):\n",
    "    def partitionDisjoint(self, A):\n",
    "        N = len(A)\n",
    "        maxleft = [None] * N\n",
    "        minright = [None] * N\n",
    "\n",
    "        m = A[0]\n",
    "        for i in range(N):\n",
    "            m = max(m, A[i])\n",
    "            maxleft[i] = m\n",
    "\n",
    "        m = A[-1]\n",
    "        for i in range(N-1, -1, -1):\n",
    "            m = min(m, A[i])\n",
    "            minright[i] = m\n",
    "\n",
    "        for i in range(1, N):\n",
    "            if maxleft[i-1] <= minright[i]:\n",
    "                return i"
   ]
  },
  {
   "cell_type": "markdown",
   "metadata": {},
   "source": [
    "### 27. Remove Element\n",
    "\n",
    "https://leetcode.com/problems/remove-element/"
   ]
  },
  {
   "cell_type": "code",
   "execution_count": null,
   "metadata": {},
   "outputs": [],
   "source": [
    "class Solution:\n",
    "    \"\"\"\n",
    "    @param A: A list of integers\n",
    "    @param elem: An integer\n",
    "    @return: The new length after remove\n",
    "    \"\"\"\n",
    "    def removeElement(self, A, elem):\n",
    "        # write your code here\n",
    "        j = len(A)-1\n",
    "        for i in range(len(A) - 1, -1, -1):\n",
    "            if A[i] == elem:\n",
    "                A[i], A[j] = A[j], A[i]\n",
    "                j -= 1\n",
    "        return j+1"
   ]
  },
  {
   "cell_type": "code",
   "execution_count": null,
   "metadata": {},
   "outputs": [],
   "source": [
    "class Solution {\n",
    "public:\n",
    "    /** \n",
    "     *@param A: A list of integers\n",
    "     *@param elem: An integer\n",
    "     *@return: The new length after remove\n",
    "     */\n",
    "    int removeElement(vector<int> &A, int elem) {\n",
    "        // write your code here\n",
    "        int start = 0;\n",
    "        int n = A.size();\n",
    "        for(int i = 0; i < n; i++)\n",
    "            if (elem != A[i]) {\n",
    "                A[start++] = A[i];\n",
    "            }\n",
    "        return start;\n",
    "    }\n",
    "};"
   ]
  },
  {
   "cell_type": "markdown",
   "metadata": {},
   "source": [
    "### 560. Subarray Sum Equals K\n",
    "\n",
    "https://leetcode.com/problems/subarray-sum-equals-k/"
   ]
  },
  {
   "cell_type": "code",
   "execution_count": null,
   "metadata": {},
   "outputs": [],
   "source": [
    "class Solution {\n",
    "public:\n",
    "    int subarraySum(vector<int>& nums, int k) {\n",
    "        unordered_map<int, int> map;\n",
    "        int result = 0;\n",
    "        int sum = 0;\n",
    "        map[0] = 1;\n",
    "        for (int i = 0; i < nums.size(); ++i) {\n",
    "            sum += nums[i];\n",
    "            result += map[sum - k];\n",
    "            ++map[sum]; \n",
    "        }\n",
    "        return result;\n",
    "    }\n",
    "};"
   ]
  }
 ],
 "metadata": {
  "kernelspec": {
   "display_name": "Python 3",
   "language": "python",
   "name": "python3"
  },
  "language_info": {
   "codemirror_mode": {
    "name": "ipython",
    "version": 3
   },
   "file_extension": ".py",
   "mimetype": "text/x-python",
   "name": "python",
   "nbconvert_exporter": "python",
   "pygments_lexer": "ipython3",
   "version": "3.6.7"
  }
 },
 "nbformat": 4,
 "nbformat_minor": 2
}
