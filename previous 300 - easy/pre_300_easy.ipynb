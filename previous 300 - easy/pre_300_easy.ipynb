{
 "cells": [
  {
   "cell_type": "markdown",
   "metadata": {},
   "source": [
    "## Nine Chapter included:"
   ]
  },
  {
   "cell_type": "markdown",
   "metadata": {},
   "source": [
    "### 28. Implement strStr()\n",
    "\n",
    "https://leetcode.com/problems/implement-strstr/"
   ]
  },
  {
   "cell_type": "code",
   "execution_count": null,
   "metadata": {},
   "outputs": [],
   "source": [
    "class Solution:\n",
    "    def strStr(self, source, target):\n",
    "        if source is None or target is None:\n",
    "            return -1\n",
    "        len_s = len(source)\n",
    "        len_t = len(target)\n",
    "        for i in range(len_s - len_t + 1):\n",
    "            j = 0\n",
    "            while (j < len_t):\n",
    "                if source[i + j] != target[j]:\n",
    "                    break\n",
    "                j += 1\n",
    "            if j == len_t:\n",
    "                return i\n",
    "        return -1"
   ]
  },
  {
   "cell_type": "code",
   "execution_count": null,
   "metadata": {},
   "outputs": [],
   "source": []
  },
  {
   "cell_type": "markdown",
   "metadata": {},
   "source": [
    "## Nine Chapter not included:"
   ]
  }
 ],
 "metadata": {
  "kernelspec": {
   "display_name": "Python 3",
   "language": "python",
   "name": "python3"
  },
  "language_info": {
   "codemirror_mode": {
    "name": "ipython",
    "version": 3
   },
   "file_extension": ".py",
   "mimetype": "text/x-python",
   "name": "python",
   "nbconvert_exporter": "python",
   "pygments_lexer": "ipython3",
   "version": "3.6.7"
  }
 },
 "nbformat": 4,
 "nbformat_minor": 2
}
