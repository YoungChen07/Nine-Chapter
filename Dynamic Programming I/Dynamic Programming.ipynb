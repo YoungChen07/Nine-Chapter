{
 "cells": [
  {
   "cell_type": "markdown",
   "metadata": {},
   "source": [
    "### 62. Unique Paths\n",
    "\n",
    "https://leetcode.com/problems/unique-paths/description/\n"
   ]
  },
  {
   "cell_type": "code",
   "execution_count": null,
   "metadata": {},
   "outputs": [],
   "source": [
    "class Solution(object):\n",
    "    def uniquePaths(self, m, n):\n",
    "        \"\"\"\n",
    "        :type m: int\n",
    "        :type n: int\n",
    "        :rtype: int\n",
    "        \"\"\"\n",
    "        dp=[[0 for x in range(m)] for y in range(n)] \n",
    "        \n",
    "        for col in range(m):\n",
    "            dp[0][col]=1\n",
    "        for row in range(n):\n",
    "            dp[row][0]=1\n",
    "        \n",
    "        for col in range(1, m):\n",
    "            for row in range(1, n):\n",
    "            dp[row][col]=dp[row-1][col]+dp[row][col-1]\n",
    "        \n",
    "        return dp[n-1][m-1]"
   ]
  },
  {
   "cell_type": "markdown",
   "metadata": {},
   "source": [
    "### 63. Unique Paths II\n",
    "https://leetcode.com/problems/unique-paths-ii/description/"
   ]
  },
  {
   "cell_type": "code",
   "execution_count": null,
   "metadata": {},
   "outputs": [],
   "source": [
    "class Solution:\n",
    "\n",
    "    def uniquePathsWithObstacles(self, obstacleGrid):\n",
    "        mp = obstacleGrid\n",
    "        for i in range(len(mp)):\n",
    "            for j in range(len(mp[i])):\n",
    "                if i == 0 and j == 0:\n",
    "                    mp[i][j] = 1 - mp[i][j]\n",
    "                elif i == 0:\n",
    "                    if mp[i][j] == 1:\n",
    "                        mp[i][j] = 0\n",
    "                    else:\n",
    "                        mp[i][j] = mp[i][j - 1]\n",
    "                elif j == 0:\n",
    "                    if mp[i][j] == 1:\n",
    "                        mp[i][j] = 0\n",
    "                    else:\n",
    "                        mp[i][j] = mp[i - 1][j]\n",
    "                else:\n",
    "                    if mp[i][j] == 1:\n",
    "                        mp[i][j] = 0\n",
    "                    else:\n",
    "                        mp[i][j] = mp[i - 1][j] + mp[i][j - 1]\n",
    "        if mp[-1][-1] > 2147483647: \n",
    "            return -1\n",
    "        else:\n",
    "            return mp[-1][-1]"
   ]
  },
  {
   "cell_type": "markdown",
   "metadata": {},
   "source": [
    "### 70. Climbing Stairs\n",
    "https://leetcode.com/problems/climbing-stairs/description/"
   ]
  },
  {
   "cell_type": "code",
   "execution_count": null,
   "metadata": {},
   "outputs": [],
   "source": [
    "class Solution(object):\n",
    "    def climbStairs(self, n):\n",
    "        \"\"\"\n",
    "        :type n: int\n",
    "        :rtype: int\n",
    "        \"\"\"\n",
    "        if n==1:\n",
    "            return 1\n",
    "        dp=[]\n",
    "        dp.append(0)\n",
    "        dp.append(1)\n",
    "        dp.append(2)\n",
    "        for i in range(3,n+1):\n",
    "            dp.append(dp[i-1]+dp[i-2])\n",
    "        return dp[n]"
   ]
  },
  {
   "cell_type": "markdown",
   "metadata": {},
   "source": [
    "### 64. Minimum Path Sum\n",
    "https://leetcode.com/problems/minimum-path-sum/description/"
   ]
  },
  {
   "cell_type": "code",
   "execution_count": null,
   "metadata": {},
   "outputs": [],
   "source": [
    "class Solution(object):\n",
    "    def minPathSum(self, grid):\n",
    "        \"\"\"\n",
    "        :type grid: List[List[int]]\n",
    "        :rtype: int\n",
    "        \"\"\"\n",
    "        if grid is None or len(grid) == 0 or len(grid[0]) == 0:        \n",
    "            return 0\n",
    "        row = len(grid)\n",
    "        col = len(grid[0])\n",
    "        dp=[[0 for x in range(col)] for y in range(row)] \n",
    "        \n",
    "        dp[0][0]=grid[0][0]\n",
    "        \n",
    "        for j in range(1, col):\n",
    "            dp[0][j] = dp[0][j-1]+grid[0][j]\n",
    "            \n",
    "        for i in range(1, row):\n",
    "            dp[i][0] = dp[i-1][0]+grid[i][0]\n",
    "        \n",
    "        for i in range(1, row):\n",
    "            for j in range(1, col):\n",
    "                dp[i][j] = min(dp[i-1][j], dp[i][j-1])+grid[i][j]\n",
    "            \n",
    "        return dp[row-1][col-1]"
   ]
  },
  {
   "cell_type": "markdown",
   "metadata": {},
   "source": [
    "### 120. Triangle\n",
    "https://leetcode.com/problems/triangle/description/"
   ]
  },
  {
   "cell_type": "code",
   "execution_count": null,
   "metadata": {},
   "outputs": [],
   "source": [
    "class Solution:\n",
    "    \"\"\"\n",
    "    @param triangle: a list of lists of integers.\n",
    "    @return: An integer, minimum path sum.\n",
    "    \"\"\"\n",
    "    def minimumTotal(self, triangle):\n",
    "        # write your code here\n",
    "        res=[triangle[0]]\n",
    "        N = len(triangle)\n",
    "        for i in range(1,len(triangle)):\n",
    "            res.append([])\n",
    "            for j in range(len(triangle[i])):\n",
    "                if j-1>=0 and j< len(triangle[i-1]):\n",
    "                    res[i].append(min(res[i-1][j-1],res[i-1][j])+triangle[i][j])\n",
    "                elif j-1>=0:\n",
    "                    res[i].append(res[i-1][j-1]+triangle[i][j])\n",
    "                else:\n",
    "                    res[i].append(res[i-1][j]+triangle[i][j])\n",
    "                 \n",
    "        minvalue = min(res[N-1])\n",
    "        return minvalue"
   ]
  },
  {
   "cell_type": "markdown",
   "metadata": {},
   "source": [
    "### 55. Jump Game\n",
    "\n",
    "https://leetcode.com/problems/jump-game/description/"
   ]
  },
  {
   "cell_type": "code",
   "execution_count": null,
   "metadata": {},
   "outputs": [],
   "source": [
    "class Solution:\n",
    "    def canJump(self, nums):\n",
    "        \"\"\"\n",
    "        :type nums: List[int]\n",
    "        :rtype: bool\n",
    "        \"\"\"\n",
    "#         DP time Limit Exceeded\n",
    "#         can = [False]*len(nums)\n",
    "#         can[0] = True\n",
    "        \n",
    "#         for i in range(len(nums)):\n",
    "#             for j in range(i):\n",
    "#                 if can[j] and j + nums[j] >=i:\n",
    "#                     can[i] = True\n",
    "#                     break\n",
    "        \n",
    "#         return can[len(nums)-1]\n",
    "\n",
    "# Greedy\n",
    "        if len(nums) ==0:\n",
    "            return False\n",
    "        farthest = nums[0]\n",
    "        for i in range(len(nums)):\n",
    "            if i <= farthest and nums[i] + i > farthest:\n",
    "                farthest = nums[i] +i\n",
    "                \n",
    "        return farthest >= (len(nums)-1)"
   ]
  },
  {
   "cell_type": "markdown",
   "metadata": {},
   "source": [
    "### 300. Longest Increasing Subsequence\n",
    "\n",
    "https://leetcode.com/problems/longest-increasing-subsequence/description/"
   ]
  },
  {
   "cell_type": "code",
   "execution_count": null,
   "metadata": {},
   "outputs": [],
   "source": [
    "class Solution:\n",
    "    def lengthOfLIS(self, nums):\n",
    "        \"\"\"\n",
    "        :type nums: List[int]\n",
    "        :rtype: int\n",
    "        \"\"\"\n",
    "        if nums is None or not nums:\n",
    "            return 0\n",
    "        dp = [1] * len(nums)\n",
    "        for curr, val in enumerate(nums):\n",
    "            for prev in range(curr):\n",
    "                if nums[prev] < val:\n",
    "                    dp[curr] = max(dp[curr], dp[prev] + 1)\n",
    "        return max(dp)"
   ]
  },
  {
   "cell_type": "markdown",
   "metadata": {},
   "source": [
    "O(nlgn)的贪心算法\n",
    "很trick的一个方法，做过一次之后基本就能记住。\n",
    "核心点就是创建一个递增数组，并在原数组上进行修改\n",
    "只能用于求longest 递增或递减数组\n",
    "\n",
    "\n",
    "get_insert_pos时间复杂度是nlgn\n",
    "用令狐冲的二分法就可以，唯一要注意的是，这种找pos的题目\n",
    "nums[start] 和nums[end] 可能同时大于target\n",
    "也可能同时小于target。 考虑好corner case就没问题"
   ]
  },
  {
   "cell_type": "code",
   "execution_count": null,
   "metadata": {},
   "outputs": [],
   "source": [
    "class Solution:\n",
    "    \"\"\"\n",
    "    @param nums: An integer array\n",
    "    @return: The length of LIS (longest increasing subsequence)\n",
    "    \"\"\"\n",
    "    def longestIncreasingSubsequence(self, nums):\n",
    "        if nums is None or len(nums) == 0:\n",
    "            return 0\n",
    "            \n",
    "        n = len(nums)\n",
    "        res = []\n",
    "        for num in nums:\n",
    "            if len(res) == 0 or res[-1] < num:\n",
    "                res.append(num)\n",
    "                continue\n",
    "            insert_pos = self.get_insert_pos(num, res)\n",
    "            res[insert_pos] = num\n",
    "        \n",
    "        return len(res)\n",
    "            \n",
    "    def get_insert_pos(self, target, nums):\n",
    "        if len(nums) == 0:\n",
    "            return 0\n",
    "            \n",
    "        start, end = 0, len(nums) - 1\n",
    "        while start + 1 < end:\n",
    "            mid = (start + end) // 2\n",
    "            if nums[mid] >= target:\n",
    "                end = mid\n",
    "            else:\n",
    "                start = mid\n",
    "        \n",
    "        if target <= nums[start]:\n",
    "            return start\n",
    "        if target <= nums[end]:\n",
    "            return end\n",
    "        \n",
    "        return len(nums)"
   ]
  },
  {
   "cell_type": "markdown",
   "metadata": {},
   "source": [
    "### 139. Word Break\n",
    "\n",
    "https://leetcode.com/problems/word-break/description/"
   ]
  },
  {
   "cell_type": "markdown",
   "metadata": {},
   "source": [
    "The idea is the following:\n",
    "\n",
    "d is an array that contains booleans\n",
    "\n",
    "d[i] is True if there is a word in the dictionary that ends at ith index of s AND d is also True at the beginning of the word\n",
    "\n",
    "Example:\n",
    "\n",
    "s = \"leetcode\"\n",
    "\n",
    "words = [\"leet\", \"code\"]\n",
    "\n",
    "d[3] is True because there is \"leet\" in the dictionary that ends at 3rd index of \"leetcode\"\n",
    "\n",
    "d[7] is True because there is \"code\" in the dictionary that ends at the 7th index of \"leetcode\" AND d[3] is True\n",
    "\n",
    "The result is the last index of d."
   ]
  },
  {
   "cell_type": "code",
   "execution_count": null,
   "metadata": {},
   "outputs": [],
   "source": [
    "class Solution:\n",
    "    def wordBreak(self, s, wordDict):\n",
    "        \"\"\"\n",
    "        :type s: str\n",
    "        :type wordDict: List[str]\n",
    "        :rtype: bool\n",
    "        \"\"\"\n",
    "        dp = [False] * len(s)\n",
    "        for i in range(len(s)):\n",
    "            for w in wordDict:\n",
    "                if (s[i-len(w)+1: i+1]== w) and (dp[i-len(w)] or (i-len(w)==-1)):\n",
    "                    dp[i]=True\n",
    "        return dp[-1]"
   ]
  },
  {
   "cell_type": "code",
   "execution_count": 6,
   "metadata": {},
   "outputs": [
    {
     "name": "stdout",
     "output_type": "stream",
     "text": [
      "lee\n",
      "t\n"
     ]
    }
   ],
   "source": [
    "s=\"leetcode\"\n",
    "print(s[0:3])\n",
    "print(s[3])"
   ]
  },
  {
   "cell_type": "markdown",
   "metadata": {},
   "source": [
    "### 131. Palindrome Partitioning\n",
    "\n",
    "https://leetcode.com/problems/palindrome-partitioning/description/"
   ]
  },
  {
   "cell_type": "markdown",
   "metadata": {},
   "source": [
    "基本是按照九章常规java版的思路写的\n",
    "DFS 模板, index 指向current 切割到的位置，\n",
    "然后用for 循环查找下一刀切向何处，切完后先测一下是不是回文，\n",
    "不是的话就跳过，是的话继续递归，直到切到字符串结束。"
   ]
  },
  {
   "cell_type": "code",
   "execution_count": null,
   "metadata": {},
   "outputs": [],
   "source": [
    "class Solution:\n",
    "    \"\"\"\n",
    "    @param: s: A string\n",
    "    @return: A list of lists of string\n",
    "    \"\"\"\n",
    "    def partition(self, s):\n",
    "        result = []\n",
    "        if len(s) == 0 or s is None:\n",
    "            return result\n",
    "        self.dfs(result, [], 0, s)\n",
    "        return result\n",
    "    \n",
    "    def dfs(self, result, path, index, s):\n",
    "        if index == len(s):\n",
    "            result.append(path[:])\n",
    "            return\n",
    "        for i in range(index, len(s)):\n",
    "            substr = s[index:i+1]\n",
    "            if not self.isPalindrome(substr):\n",
    "                continue\n",
    "            path.append(substr)\n",
    "            self.dfs(result, path, i+1, s)\n",
    "            path.pop()\n",
    "        \n",
    "    def isPalindrome(self, s):\n",
    "        start = 0\n",
    "        end = len(s) - 1 \n",
    "        while start < end:\n",
    "            if s[start] != s[end]:\n",
    "                return False\n",
    "            start += 1 \n",
    "            end -= 1\n",
    "        return True"
   ]
  },
  {
   "cell_type": "code",
   "execution_count": null,
   "metadata": {},
   "outputs": [],
   "source": [
    "#still DFS\n",
    "class Solution:\n",
    "\n",
    "    def partition(self, s):\n",
    "        results = []\n",
    "        self.dfs(s, [], results)\n",
    "        return results\n",
    "    \n",
    "    def dfs(self, s, stringlist, results):\n",
    "        if len(s) == 0:\n",
    "            results.append(stringlist)\n",
    "            # results.append(list(stringlist))\n",
    "            return\n",
    "            \n",
    "        for i in range(1, len(s) + 1):\n",
    "            prefix = s[:i]\n",
    "            if self.is_palindrome(prefix):\n",
    "                self.dfs(s[i:], stringlist + [prefix], results)\n",
    "                # stringlist.append(prefix)\n",
    "                # self.dfs(s[i:], stringlist, results)\n",
    "                # stringlist.pop()\n",
    "\n",
    "    def is_palindrome(self, s):\n",
    "        return s == s[::-1]"
   ]
  },
  {
   "cell_type": "code",
   "execution_count": null,
   "metadata": {},
   "outputs": [],
   "source": [
    "#DFS + DP\n",
    "class Solution:\n",
    "    def partitionAfter(self, s, start, valid):\n",
    "        result = []\n",
    "        if start == len(s):\n",
    "            result.append([])\n",
    "            return result\n",
    "        for i in range(start, len(s)):\n",
    "            if s[i] == s[start] and (i == start or i == start + 1 or valid[start+1][i-1]):\n",
    "                valid[start][i] = True\n",
    "                for sp in self.partitionAfter(s, i + 1, valid):\n",
    "                    result.append([s[start:i+1]] + sp)\n",
    "        return result\n",
    "        \n",
    "    def partition(self, s):\n",
    "        \"\"\"\n",
    "        :type s: str\n",
    "        :rtype: List[List[str]]\n",
    "        \"\"\"\n",
    "        sl = len(s)\n",
    "        valid = [x[:] for x in [[False]*sl]*sl]\n",
    "        return self.partitionAfter(s, 0, valid)"
   ]
  },
  {
   "cell_type": "markdown",
   "metadata": {},
   "source": [
    "### Lintcode 79. Longest Common Substring\n",
    "\n",
    "https://www.lintcode.com/problem/longest-common-substring/description\n",
    "\n",
    "这题解决以后可以把 https://leetcode.com/problems/longest-palindromic-substring/description/ \n",
    " 5. Longest Palindromic Substring 同理先reverse再解决"
   ]
  },
  {
   "cell_type": "code",
   "execution_count": null,
   "metadata": {},
   "outputs": [],
   "source": [
    "class Solution:\n",
    "    # @param A, B: Two string.\n",
    "    # @return: the length of the longest common substring.\n",
    "    def longestCommonSubstring(self, A, B):\n",
    "        # write your code here\n",
    "        ans = 0\n",
    "        for i in range(len(A)):\n",
    "            for j in range(len(B)):\n",
    "                l = 0\n",
    "                while i + l < len(A) and j + l < len(B) and A[i + l] == B[j + l]:\n",
    "                    l += 1\n",
    "                if l > ans:\n",
    "                    ans = l\n",
    "        return ans"
   ]
  },
  {
   "cell_type": "markdown",
   "metadata": {},
   "source": [
    "### Lintcode 77. Longest Common Subsequence\n",
    "\n",
    "https://www.lintcode.com/problem/longest-common-subsequence/description"
   ]
  },
  {
   "cell_type": "code",
   "execution_count": null,
   "metadata": {},
   "outputs": [],
   "source": [
    "class Solution:\n",
    "    \"\"\"\n",
    "    @param A: A string\n",
    "    @param B: A string\n",
    "    @return: The length of longest common subsequence of A and B\n",
    "    \"\"\"\n",
    "    def longestCommonSubsequence(self, A, B):\n",
    "        n, m = len(A), len(B)\n",
    "        f = [[0] * (n + 1) for i in range(m + 1)]\n",
    "        for i in range(1, n + 1):\n",
    "            for j in range(1, m + 1):\n",
    "                f[i][j] = max(f[i][j - 1], f[i - 1][j])\n",
    "                if A[i - 1] == B[j - 1]:\n",
    "                    f[i][j] = max(f[i][j], f[i - 1][j - 1] + 1)\n",
    "        return f[n][m]"
   ]
  },
  {
   "cell_type": "code",
   "execution_count": 7,
   "metadata": {},
   "outputs": [
    {
     "data": {
      "text/plain": [
       "[[0, 0, 0], [0, 0, 0], [0, 0, 0], [0, 0, 0]]"
      ]
     },
     "execution_count": 7,
     "metadata": {},
     "output_type": "execute_result"
    }
   ],
   "source": [
    "n, m = 2, 3\n",
    "f = [[0] * (n + 1) for i in range(m + 1)]\n",
    "f"
   ]
  }
 ],
 "metadata": {
  "kernelspec": {
   "display_name": "Python 3",
   "language": "python",
   "name": "python3"
  },
  "language_info": {
   "codemirror_mode": {
    "name": "ipython",
    "version": 3
   },
   "file_extension": ".py",
   "mimetype": "text/x-python",
   "name": "python",
   "nbconvert_exporter": "python",
   "pygments_lexer": "ipython3",
   "version": "3.6.7"
  }
 },
 "nbformat": 4,
 "nbformat_minor": 2
}
