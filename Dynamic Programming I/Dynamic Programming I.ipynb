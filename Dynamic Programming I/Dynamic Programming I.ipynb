{
 "cells": [
  {
   "cell_type": "markdown",
   "metadata": {},
   "source": [
    "### 62. Unique Paths\n",
    "\n",
    "https://leetcode.com/problems/unique-paths/description/\n"
   ]
  },
  {
   "cell_type": "code",
   "execution_count": null,
   "metadata": {},
   "outputs": [],
   "source": [
    "class Solution(object):\n",
    "    def uniquePaths(self, m, n):\n",
    "        \"\"\"\n",
    "        :type m: int\n",
    "        :type n: int\n",
    "        :rtype: int\n",
    "        \"\"\"\n",
    "        dp=[[0 for x in range(m)] for y in range(n)] \n",
    "        \n",
    "        for col in range(m):\n",
    "            dp[0][col]=1\n",
    "        for row in range(n):\n",
    "            dp[row][0]=1\n",
    "        \n",
    "        for col in range(1, m):\n",
    "            for row in range(1, n):\n",
    "            dp[row][col]=dp[row-1][col]+dp[row][col-1]\n",
    "        \n",
    "        return dp[n-1][m-1]"
   ]
  },
  {
   "cell_type": "markdown",
   "metadata": {},
   "source": [
    "### 63. Unique Paths II\n",
    "https://leetcode.com/problems/unique-paths-ii/description/"
   ]
  },
  {
   "cell_type": "code",
   "execution_count": null,
   "metadata": {},
   "outputs": [],
   "source": [
    "class Solution:\n",
    "\n",
    "    def uniquePathsWithObstacles(self, obstacleGrid):\n",
    "        mp = obstacleGrid\n",
    "        for i in range(len(mp)):\n",
    "            for j in range(len(mp[i])):\n",
    "                if i == 0 and j == 0:\n",
    "                    mp[i][j] = 1 - mp[i][j]\n",
    "                elif i == 0:\n",
    "                    if mp[i][j] == 1:\n",
    "                        mp[i][j] = 0\n",
    "                    else:\n",
    "                        mp[i][j] = mp[i][j - 1]\n",
    "                elif j == 0:\n",
    "                    if mp[i][j] == 1:\n",
    "                        mp[i][j] = 0\n",
    "                    else:\n",
    "                        mp[i][j] = mp[i - 1][j]\n",
    "                else:\n",
    "                    if mp[i][j] == 1:\n",
    "                        mp[i][j] = 0\n",
    "                    else:\n",
    "                        mp[i][j] = mp[i - 1][j] + mp[i][j - 1]\n",
    "        if mp[-1][-1] > 2147483647: \n",
    "            return -1\n",
    "        else:\n",
    "            return mp[-1][-1]"
   ]
  },
  {
   "cell_type": "markdown",
   "metadata": {},
   "source": [
    "### 70. Climbing Stairs\n",
    "https://leetcode.com/problems/climbing-stairs/description/"
   ]
  },
  {
   "cell_type": "code",
   "execution_count": null,
   "metadata": {},
   "outputs": [],
   "source": [
    "class Solution(object):\n",
    "    def climbStairs(self, n):\n",
    "        \"\"\"\n",
    "        :type n: int\n",
    "        :rtype: int\n",
    "        \"\"\"\n",
    "        if n==1:\n",
    "            return 1\n",
    "        dp=[]\n",
    "        dp.append(0)\n",
    "        dp.append(1)\n",
    "        dp.append(2)\n",
    "        for i in range(3,n+1):\n",
    "            dp.append(dp[i-1]+dp[i-2])\n",
    "        return dp[n]"
   ]
  },
  {
   "cell_type": "markdown",
   "metadata": {},
   "source": [
    "### 64. Minimum Path Sum\n",
    "https://leetcode.com/problems/minimum-path-sum/description/"
   ]
  },
  {
   "cell_type": "code",
   "execution_count": null,
   "metadata": {},
   "outputs": [],
   "source": [
    "class Solution(object):\n",
    "    def minPathSum(self, grid):\n",
    "        \"\"\"\n",
    "        :type grid: List[List[int]]\n",
    "        :rtype: int\n",
    "        \"\"\"\n",
    "        if grid is None or len(grid) == 0 or len(grid[0]) == 0:        \n",
    "            return 0\n",
    "        row = len(grid)\n",
    "        col = len(grid[0])\n",
    "        dp=[[0 for x in range(col)] for y in range(row)] \n",
    "        \n",
    "        dp[0][0]=grid[0][0]\n",
    "        \n",
    "        for j in range(1, col):\n",
    "            dp[0][j] = dp[0][j-1]+grid[0][j]\n",
    "            \n",
    "        for i in range(1, row):\n",
    "            dp[i][0] = dp[i-1][0]+grid[i][0]\n",
    "        \n",
    "        for i in range(1, row):\n",
    "            for j in range(1, col):\n",
    "                dp[i][j] = min(dp[i-1][j], dp[i][j-1])+grid[i][j]\n",
    "            \n",
    "        return dp[row-1][col-1]"
   ]
  },
  {
   "cell_type": "markdown",
   "metadata": {},
   "source": [
    "### 120. Triangle\n",
    "https://leetcode.com/problems/triangle/description/"
   ]
  },
  {
   "cell_type": "code",
   "execution_count": null,
   "metadata": {},
   "outputs": [],
   "source": [
    "class Solution:\n",
    "    \"\"\"\n",
    "    @param triangle: a list of lists of integers.\n",
    "    @return: An integer, minimum path sum.\n",
    "    \"\"\"\n",
    "    def minimumTotal(self, triangle):\n",
    "        # write your code here\n",
    "        res=[triangle[0]]\n",
    "        N = len(triangle)\n",
    "        for i in range(1,len(triangle)):\n",
    "            res.append([])\n",
    "            for j in range(len(triangle[i])):\n",
    "                if j-1>=0 and j< len(triangle[i-1]):\n",
    "                    res[i].append(min(res[i-1][j-1],res[i-1][j])+triangle[i][j])\n",
    "                elif j-1>=0:\n",
    "                    res[i].append(res[i-1][j-1]+triangle[i][j])\n",
    "                else:\n",
    "                    res[i].append(res[i-1][j]+triangle[i][j])\n",
    "                 \n",
    "        minvalue = min(res[N-1])\n",
    "        return minvalue"
   ]
  },
  {
   "cell_type": "markdown",
   "metadata": {},
   "source": [
    "### 55. Jump Game\n",
    "\n",
    "https://leetcode.com/problems/jump-game/description/"
   ]
  },
  {
   "cell_type": "code",
   "execution_count": null,
   "metadata": {},
   "outputs": [],
   "source": [
    "class Solution:\n",
    "    def canJump(self, nums):\n",
    "        \"\"\"\n",
    "        :type nums: List[int]\n",
    "        :rtype: bool\n",
    "        \"\"\"\n",
    "#         DP time Limit Exceeded\n",
    "#         can = [False]*len(nums)\n",
    "#         can[0] = True\n",
    "        \n",
    "#         for i in range(len(nums)):\n",
    "#             for j in range(i):\n",
    "#                 if can[j] and j + nums[j] >=i:\n",
    "#                     can[i] = True\n",
    "#                     break\n",
    "        \n",
    "#         return can[len(nums)-1]\n",
    "\n",
    "# Greedy\n",
    "        if len(nums) ==0:\n",
    "            return False\n",
    "        farthest = nums[0]\n",
    "        for i in range(len(nums)):\n",
    "            if i <= farthest and nums[i] + i > farthest:\n",
    "                farthest = nums[i] +i\n",
    "                \n",
    "        return farthest >= (len(nums)-1)"
   ]
  },
  {
   "cell_type": "code",
   "execution_count": null,
   "metadata": {},
   "outputs": [],
   "source": []
  }
 ],
 "metadata": {
  "kernelspec": {
   "display_name": "Python 3",
   "language": "python",
   "name": "python3"
  },
  "language_info": {
   "codemirror_mode": {
    "name": "ipython",
    "version": 3
   },
   "file_extension": ".py",
   "mimetype": "text/x-python",
   "name": "python",
   "nbconvert_exporter": "python",
   "pygments_lexer": "ipython3",
   "version": "3.6.7"
  }
 },
 "nbformat": 4,
 "nbformat_minor": 2
}
