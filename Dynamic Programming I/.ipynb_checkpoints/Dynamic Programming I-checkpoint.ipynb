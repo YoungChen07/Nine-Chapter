{
 "cells": [
  {
   "cell_type": "markdown",
   "metadata": {},
   "source": [
    "### 62. Unique Paths\n",
    "\n",
    "https://leetcode.com/problems/unique-paths/description/\n"
   ]
  },
  {
   "cell_type": "code",
   "execution_count": null,
   "metadata": {},
   "outputs": [],
   "source": [
    "class Solution(object):\n",
    "    def uniquePaths(self, m, n):\n",
    "        \"\"\"\n",
    "        :type m: int\n",
    "        :type n: int\n",
    "        :rtype: int\n",
    "        \"\"\"\n",
    "        dp=[[0 for x in range(m)] for y in range(n)] \n",
    "        \n",
    "        for col in range(m):\n",
    "            dp[0][col]=1\n",
    "        for row in range(n):\n",
    "            dp[row][0]=1\n",
    "        \n",
    "        for col in range(1, m):\n",
    "            for row in range(1, n):\n",
    "            dp[row][col]=dp[row-1][col]+dp[row][col-1]\n",
    "        \n",
    "        return dp[n-1][m-1]"
   ]
  },
  {
   "cell_type": "markdown",
   "metadata": {},
   "source": [
    "### 63. Unique Paths II\n",
    "https://leetcode.com/problems/unique-paths-ii/description/"
   ]
  },
  {
   "cell_type": "code",
   "execution_count": null,
   "metadata": {},
   "outputs": [],
   "source": [
    "class Solution:\n",
    "\n",
    "    def uniquePathsWithObstacles(self, obstacleGrid):\n",
    "        mp = obstacleGrid\n",
    "        for i in range(len(mp)):\n",
    "            for j in range(len(mp[i])):\n",
    "                if i == 0 and j == 0:\n",
    "                    mp[i][j] = 1 - mp[i][j]\n",
    "                elif i == 0:\n",
    "                    if mp[i][j] == 1:\n",
    "                        mp[i][j] = 0\n",
    "                    else:\n",
    "                        mp[i][j] = mp[i][j - 1]\n",
    "                elif j == 0:\n",
    "                    if mp[i][j] == 1:\n",
    "                        mp[i][j] = 0\n",
    "                    else:\n",
    "                        mp[i][j] = mp[i - 1][j]\n",
    "                else:\n",
    "                    if mp[i][j] == 1:\n",
    "                        mp[i][j] = 0\n",
    "                    else:\n",
    "                        mp[i][j] = mp[i - 1][j] + mp[i][j - 1]\n",
    "        if mp[-1][-1] > 2147483647: \n",
    "            return -1\n",
    "        else:\n",
    "            return mp[-1][-1]"
   ]
  }
 ],
 "metadata": {
  "kernelspec": {
   "display_name": "Python 3",
   "language": "python",
   "name": "python3"
  },
  "language_info": {
   "codemirror_mode": {
    "name": "ipython",
    "version": 3
   },
   "file_extension": ".py",
   "mimetype": "text/x-python",
   "name": "python",
   "nbconvert_exporter": "python",
   "pygments_lexer": "ipython3",
   "version": "3.6.7"
  }
 },
 "nbformat": 4,
 "nbformat_minor": 2
}
