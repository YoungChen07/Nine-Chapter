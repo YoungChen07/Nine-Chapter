{
 "cells": [
  {
   "cell_type": "markdown",
   "metadata": {},
   "source": [
    "## DFS"
   ]
  },
  {
   "cell_type": "markdown",
   "metadata": {},
   "source": [
    "### 78 Subsets/ (Combination):\n",
    "https://leetcode.com/problems/subsets/description/\n",
    "\n",
    "\n",
    "Given a set of distinct integers, nums, return all possible subsets (the power set).\n",
    "\n",
    "Note: The solution set must not contain duplicate subsets.\n",
    "\n",
    "Example:\n",
    "\n",
    "Input: nums = [1,2,3]\n",
    "Output:\n",
    "[\n",
    "  [3],\n",
    "  [1],\n",
    "  [2],\n",
    "  [1,2,3],\n",
    "  [1,3],\n",
    "  [2,3],\n",
    "  [1,2],\n",
    "  []\n",
    "]"
   ]
  },
  {
   "cell_type": "code",
   "execution_count": 1,
   "metadata": {},
   "outputs": [],
   "source": [
    "class Solution:\n",
    "    def subsets(self, nums):\n",
    "        \"\"\"\n",
    "        :type nums: List[int]\n",
    "        :rtype: List[List[int]]\n",
    "        \"\"\"\n",
    "        nums.sort()\n",
    "        self.result=[]\n",
    "        self.get_subsets(nums, 0, [])\n",
    "        return self.result\n",
    "    \n",
    "    def get_subsets(self, nums, idx, array):\n",
    "        self.result.append(array)\n",
    "        for i in range(idx, len(nums)):\n",
    "            temp=array.copy()\n",
    "            temp.append(nums[i])\n",
    "            self.get_subsets(nums, i+1, temp)"
   ]
  },
  {
   "cell_type": "markdown",
   "metadata": {},
   "source": [
    "### 46. Permutations\n",
    "\n",
    "https://leetcode.com/problems/permutations/description/\n",
    "\n",
    "Given a collection of distinct integers, return all possible permutations.\n",
    "\n",
    "Example:\n",
    "\n",
    "Input: [1,2,3]\n",
    "Output:\n",
    "[\n",
    "  [1,2,3],\n",
    "  [1,3,2],\n",
    "  [2,1,3],\n",
    "  [2,3,1],\n",
    "  [3,1,2],\n",
    "  [3,2,1]\n",
    "]"
   ]
  },
  {
   "cell_type": "code",
   "execution_count": 3,
   "metadata": {},
   "outputs": [],
   "source": [
    "class Solution:  \n",
    "    def permute(self, nums):\n",
    "        self.res = []\n",
    "        self.dfs(nums, [])\n",
    "        return self.res\n",
    "    \n",
    "    def dfs(self, nums, temp):\n",
    "        if len(nums) == len(temp):\n",
    "            self.res.append(temp[:])\n",
    "            return\n",
    "        for i in range(len(nums)):\n",
    "            if nums[i] in temp: \n",
    "                continue\n",
    "            temp.append(nums[i])\n",
    "            self.dfs(nums, temp)\n",
    "            temp.pop()"
   ]
  },
  {
   "cell_type": "markdown",
   "metadata": {},
   "source": [
    "### 90. Subsets II\n",
    "\n",
    "https://leetcode.com/problems/subsets-ii/description/\n",
    "\n",
    "Given a collection of integers that might contain duplicates, nums, return all possible subsets (the power set).\n",
    "\n",
    "Note: The solution set must not contain duplicate subsets.\n",
    "\n",
    "Example:\n",
    "\n",
    "Input: [1,2,2]\n",
    "Output:\n",
    "[\n",
    "  [2],\n",
    "  [1],\n",
    "  [1,2,2],\n",
    "  [2,2],\n",
    "  [1,2],\n",
    "  []\n",
    "]"
   ]
  },
  {
   "cell_type": "code",
   "execution_count": null,
   "metadata": {},
   "outputs": [],
   "source": [
    "class Solution:\n",
    "    def subsetsWithDup(self, nums):\n",
    "        \"\"\"\n",
    "        :type nums: List[int]\n",
    "        :rtype: List[List[int]]\n",
    "        \"\"\"\n",
    "        nums.sort()\n",
    "        self.result=[]\n",
    "        self.get_subsets(nums, 0, [])\n",
    "        return self.result\n",
    "    \n",
    "    def get_subsets(self, nums, idx, array):\n",
    "        self.result.append(array)\n",
    "        for i in range(idx, len(nums)):\n",
    "            if  nums[i]==nums[i-1] and i!=idx :\n",
    "                continue\n",
    "            temp=array.copy()\n",
    "            temp.append(nums[i])\n",
    "            self.get_subsets(nums, i+1, temp)"
   ]
  }
 ],
 "metadata": {
  "kernelspec": {
   "display_name": "Python 3",
   "language": "python",
   "name": "python3"
  },
  "language_info": {
   "codemirror_mode": {
    "name": "ipython",
    "version": 3
   },
   "file_extension": ".py",
   "mimetype": "text/x-python",
   "name": "python",
   "nbconvert_exporter": "python",
   "pygments_lexer": "ipython3",
   "version": "3.6.7"
  }
 },
 "nbformat": 4,
 "nbformat_minor": 2
}
