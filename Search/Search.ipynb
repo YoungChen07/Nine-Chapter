{
 "cells": [
  {
   "cell_type": "markdown",
   "metadata": {},
   "source": [
    "## DFS"
   ]
  },
  {
   "cell_type": "markdown",
   "metadata": {},
   "source": [
    "### 78 Subsets/ (Combination):\n",
    "https://leetcode.com/problems/subsets/description/\n",
    "\n",
    "\n",
    "Given a set of distinct integers, nums, return all possible subsets (the power set).\n",
    "\n",
    "Note: The solution set must not contain duplicate subsets.\n",
    "\n",
    "Example:\n",
    "\n",
    "Input: nums = [1,2,3]\n",
    "Output:\n",
    "[\n",
    "  [3],\n",
    "  [1],\n",
    "  [2],\n",
    "  [1,2,3],\n",
    "  [1,3],\n",
    "  [2,3],\n",
    "  [1,2],\n",
    "  []\n",
    "]"
   ]
  },
  {
   "cell_type": "code",
   "execution_count": null,
   "metadata": {},
   "outputs": [],
   "source": [
    "class Solution:\n",
    "    \"\"\"\n",
    "    @param nums: A set of numbers.\n",
    "    @return: A list of lists. All valid subsets.\n",
    "    \"\"\"\n",
    "    def subsets(self, nums):\n",
    "        #nums.sort()\n",
    "        result = []\n",
    "        self.dfs(result, [], 0, nums)\n",
    "        return result\n",
    "    \n",
    "    def dfs(self, result, path, index, nums):\n",
    "        result.append(path[:])\n",
    "        for i in range(index, len(nums)):\n",
    "            #if i != index and nums[i] == nums[i-1]: continue\n",
    "            path.append(nums[i])\n",
    "            self.dfs(result, path, i+1, nums)\n",
    "            path.pop()"
   ]
  },
  {
   "cell_type": "code",
   "execution_count": null,
   "metadata": {},
   "outputs": [],
   "source": [
    "class Solution:\n",
    "    \n",
    "    def search(self, nums, S, index):\n",
    "        if index == len(nums):\n",
    "            self.results.append(list(S))\n",
    "            return\n",
    "        \n",
    "        S.append(nums[index])\n",
    "        self.search(nums, S, index + 1)\n",
    "        S.pop()\n",
    "        self.search(nums, S, index + 1)\n",
    "        \n",
    "    def subsets(self, nums):\n",
    "        self.results = []\n",
    "        self.search(sorted(nums), [], 0)\n",
    "        return self.results"
   ]
  },
  {
   "cell_type": "markdown",
   "metadata": {},
   "source": [
    "### 46. Permutations\n",
    "\n",
    "https://leetcode.com/problems/permutations/description/\n",
    "\n",
    "Given a collection of distinct integers, return all possible permutations.\n",
    "\n",
    "Example:\n",
    "\n",
    "Input: [1,2,3]\n",
    "Output:\n",
    "[\n",
    "  [1,2,3],\n",
    "  [1,3,2],\n",
    "  [2,1,3],\n",
    "  [2,3,1],\n",
    "  [3,1,2],\n",
    "  [3,2,1]\n",
    "]"
   ]
  },
  {
   "cell_type": "code",
   "execution_count": 3,
   "metadata": {},
   "outputs": [],
   "source": [
    "class Solution:  \n",
    "    def permute(self, nums):\n",
    "        self.res = []\n",
    "        self.dfs(nums, [])\n",
    "        return self.res\n",
    "    \n",
    "    def dfs(self, nums, Path):\n",
    "        if len(nums) == len(Path):\n",
    "            self.res.append(Path[:])\n",
    "            return\n",
    "        for i in range(len(nums)):\n",
    "            if nums[i] in Path: \n",
    "                continue\n",
    "            Path.append(nums[i])\n",
    "            self.dfs(nums, Path)\n",
    "            Path.pop()"
   ]
  },
  {
   "cell_type": "markdown",
   "metadata": {},
   "source": [
    "### 47. Permutations II\n",
    "\n",
    "https://leetcode.com/problems/permutations-ii/"
   ]
  },
  {
   "cell_type": "code",
   "execution_count": null,
   "metadata": {},
   "outputs": [],
   "source": [
    "class Solution:\n",
    "    \"\"\"\n",
    "    @param: :  A list of integers\n",
    "    @return: A list of unique permutations\n",
    "    \"\"\"\n",
    "\n",
    "    def permuteUnique(self, nums):\n",
    "        self.results = []\n",
    "        self.visited = {i: False for i in range(len(nums))}\n",
    "        self.dfs([], sorted(nums))\n",
    "        return self.results\n",
    "        \n",
    "    def dfs(self, path, nums) :\n",
    "        if len(path) == len(nums) :\n",
    "            self.results.append(path[:])\n",
    "            return\n",
    "        \n",
    "        for i in range(len(nums)) :\n",
    "            if self.visited[i] :\n",
    "                continue\n",
    "            \n",
    "            if i != 0 and nums[i] == nums[i - 1] and self.visited[i - 1]:\n",
    "                continue\n",
    "            \n",
    "            self.visited[i] = True\n",
    "            path.append(nums[i])\n",
    "            self.dfs(path, nums)\n",
    "            path.pop()\n",
    "            self.visited[i] = False"
   ]
  },
  {
   "cell_type": "markdown",
   "metadata": {},
   "source": [
    "### 90. Subsets II\n",
    "\n",
    "https://leetcode.com/problems/subsets-ii/description/\n",
    "\n",
    "Given a collection of integers that might contain duplicates, nums, return all possible subsets (the power set).\n",
    "\n",
    "Note: The solution set must not contain duplicate subsets.\n",
    "\n",
    "Example:\n",
    "\n",
    "Input: [1,2,2]\n",
    "Output:\n",
    "[\n",
    "  [2],\n",
    "  [1],\n",
    "  [1,2,2],\n",
    "  [2,2],\n",
    "  [1,2],\n",
    "  []\n",
    "]"
   ]
  },
  {
   "cell_type": "code",
   "execution_count": null,
   "metadata": {},
   "outputs": [],
   "source": [
    "class Solution:\n",
    "    \"\"\"\n",
    "    @param nums: A set of numbers.\n",
    "    @return: A list of lists. All valid subsets.\n",
    "    \"\"\"\n",
    "    def subsetsWithDup(self, nums):\n",
    "        nums.sort()\n",
    "        result = []\n",
    "        self.dfs(result, [], 0, nums)\n",
    "        return result\n",
    "    def dfs(self, result, path, index, nums):\n",
    "        result.append(path[:])\n",
    "        for i in range(index, len(nums)):\n",
    "            if i != index and nums[i] == nums[i-1]: continue\n",
    "            path.append(nums[i])\n",
    "            self.dfs(result, path, i+1, nums)\n",
    "            path.pop()"
   ]
  }
 ],
 "metadata": {
  "kernelspec": {
   "display_name": "Python 3",
   "language": "python",
   "name": "python3"
  },
  "language_info": {
   "codemirror_mode": {
    "name": "ipython",
    "version": 3
   },
   "file_extension": ".py",
   "mimetype": "text/x-python",
   "name": "python",
   "nbconvert_exporter": "python",
   "pygments_lexer": "ipython3",
   "version": "3.6.7"
  }
 },
 "nbformat": 4,
 "nbformat_minor": 2
}
