{
 "cells": [
  {
   "cell_type": "markdown",
   "metadata": {},
   "source": [
    "## Binary Search Code"
   ]
  },
  {
   "cell_type": "code",
   "execution_count": 2,
   "metadata": {},
   "outputs": [],
   "source": [
    "class Solution:\n",
    "    \"\"\"\n",
    "    @param A : a list of integers\n",
    "    @param target : an integer to be inserted\n",
    "    @return : an integer\n",
    "    \"\"\"\n",
    "    def binary_search(self, A, target):\n",
    "        if len(A) == 0:\n",
    "            return 0\n",
    "        start, end = 0, len(A) - 1\n",
    "        while start + 1 < end:\n",
    "            mid = int(start + (end - start) / 2)\n",
    "            if A[mid] >= target:\n",
    "                end = mid\n",
    "            else:\n",
    "                start = mid\n",
    "        if A[start] == target:\n",
    "            return start\n",
    "        if A[end] == target:\n",
    "            return end\n"
   ]
  },
  {
   "cell_type": "markdown",
   "metadata": {},
   "source": [
    "### 35. Search Insert Position\n",
    "https://leetcode.com/problems/search-insert-position/description/"
   ]
  },
  {
   "cell_type": "code",
   "execution_count": 1,
   "metadata": {},
   "outputs": [],
   "source": [
    "class Solution:\n",
    "    \"\"\"\n",
    "    @param A : a list of integers\n",
    "    @param target : an integer to be inserted\n",
    "    @return : an integer\n",
    "    \"\"\"\n",
    "    def searchInsert(self, A, target):\n",
    "        if len(A) == 0:\n",
    "            return 0\n",
    "            \n",
    "        start, end = 0, len(A) - 1\n",
    "        # first position >= target\n",
    "        while start + 1 < end:\n",
    "            mid = int(start + (end - start) / 2)\n",
    "            if A[mid] >= target:\n",
    "                end = mid\n",
    "            else:\n",
    "                start = mid\n",
    "        \n",
    "        if A[start] >= target:\n",
    "            return start\n",
    "        if A[end] >= target:\n",
    "            return end\n",
    "        return len(A)"
   ]
  },
  {
   "cell_type": "markdown",
   "metadata": {},
   "source": [
    "### 74. Search a 2D Matrix\n",
    "https://leetcode.com/problems/search-a-2d-matrix/description/"
   ]
  },
  {
   "cell_type": "code",
   "execution_count": null,
   "metadata": {},
   "outputs": [],
   "source": [
    "class Solution:\n",
    "    \"\"\"\n",
    "    @param matrix, a list of lists of integers\n",
    "    @param target, an integer\n",
    "    @return a boolean, indicate whether matrix contains target\n",
    "    \"\"\"\n",
    "    def searchMatrix(self, matrix, target):\n",
    "        if len(matrix) == 0:\n",
    "            return False\n",
    "            \n",
    "        n, m = len(matrix), len(matrix[0])\n",
    "        start, end = 0, n * m - 1\n",
    "        while start + 1 < end:\n",
    "            mid = (start + end) / 2\n",
    "            x, y = mid / m, mid % m\n",
    "            if matrix[x][y] < target:\n",
    "                start = mid\n",
    "            else:\n",
    "                end = mid\n",
    "        x, y = start / m, start % m\n",
    "        if matrix[x][y] == target:\n",
    "            return True\n",
    "        \n",
    "        x, y = end / m, end % m\n",
    "        if matrix[x][y] == target:\n",
    "            return True\n",
    "        \n",
    "        return False"
   ]
  },
  {
   "cell_type": "code",
   "execution_count": null,
   "metadata": {},
   "outputs": [],
   "source": [
    "class Solution:\n",
    "    \"\"\"\n",
    "    @param: matrix: matrix, a list of lists of integers\n",
    "    @param: target: An integer\n",
    "    @return: a boolean, indicate whether matrix contains target\n",
    "    \"\"\"\n",
    "    def searchMatrix(self, matrix, target):\n",
    "        \"\"\"Binary search a ordered matrix, treat matrix as arrays\"\"\"\n",
    "        if not matrix or target is None:\n",
    "            return False\n",
    "        \n",
    "        row, col = len(matrix), len(matrix[0])\n",
    "        start, end = 0, row*col-1  \n",
    "        \n",
    "        while start <= end:\n",
    "            mid = int((start+end)/2)\n",
    "            x, y = int(mid/col), int(mid%col)  # return the row index and col index of mid \n",
    "            num = matrix[x][y]\n",
    "            \n",
    "            if num == target:\n",
    "                return True\n",
    "            elif num < target:\n",
    "                start = mid+1\n",
    "            else:\n",
    "                end = mid-1\n",
    "        \n",
    "        return False"
   ]
  },
  {
   "cell_type": "markdown",
   "metadata": {},
   "source": [
    "### 34. Find First and Last Position of Element in Sorted Array\n",
    "https://leetcode.com/problems/find-first-and-last-position-of-element-in-sorted-array/description/"
   ]
  },
  {
   "cell_type": "code",
   "execution_count": null,
   "metadata": {},
   "outputs": [],
   "source": [
    "class Solution:\n",
    "    # own solutiton\n",
    "    def searchRange(self, nums, target):\n",
    "        \"\"\"\n",
    "        :type nums: List[int]\n",
    "        :type target: int\n",
    "        :rtype: List[int]\n",
    "        \"\"\"\n",
    "        if len(nums) ==0:\n",
    "            return [-1, -1]\n",
    "        start, end = 0 , len(nums)-1\n",
    "        while start +1 < end:\n",
    "            mid = int((end + start) /2)\n",
    "            if nums[mid] <= target:\n",
    "                start = mid\n",
    "            else:\n",
    "                end = mid\n",
    "        if nums[start] == target:\n",
    "            i = start\n",
    "            j = start\n",
    "        elif nums[end] == target:\n",
    "            i = end\n",
    "            j = end\n",
    "        else:\n",
    "            return [-1,-1]\n",
    "        while i>0 and nums[i-1]==target:\n",
    "            i=i-1\n",
    "        while j<len(nums)-1 and nums[j+1]==target:\n",
    "            j=j+1\n",
    "        return [i,j]"
   ]
  },
  {
   "cell_type": "code",
   "execution_count": null,
   "metadata": {},
   "outputs": [],
   "source": [
    "#leetcode solution\n",
    "class Solution:\n",
    "    # returns leftmost (or rightmost) index at which `target` should be inserted in sorted\n",
    "    # array `nums` via binary search.\n",
    "    def extreme_insertion_index(self, nums, target, left):\n",
    "        lo = 0\n",
    "        hi = len(nums)\n",
    "\n",
    "        while lo < hi:\n",
    "            mid = (lo + hi) // 2\n",
    "            if nums[mid] > target or (left and target == nums[mid]):\n",
    "                hi = mid\n",
    "            else:\n",
    "                lo = mid+1\n",
    "\n",
    "        return lo\n",
    "\n",
    "\n",
    "    def searchRange(self, nums, target):\n",
    "        left_idx = self.extreme_insertion_index(nums, target, True)\n",
    "\n",
    "        # assert that `left_idx` is within the array bounds and that `target`\n",
    "        # is actually in `nums`.\n",
    "        if left_idx == len(nums) or nums[left_idx] != target:\n",
    "            return [-1, -1]\n",
    "\n",
    "        return [left_idx, self.extreme_insertion_index(nums, target, False)-1]"
   ]
  }
 ],
 "metadata": {
  "kernelspec": {
   "display_name": "Python 3",
   "language": "python",
   "name": "python3"
  },
  "language_info": {
   "codemirror_mode": {
    "name": "ipython",
    "version": 3
   },
   "file_extension": ".py",
   "mimetype": "text/x-python",
   "name": "python",
   "nbconvert_exporter": "python",
   "pygments_lexer": "ipython3",
   "version": "3.6.7"
  }
 },
 "nbformat": 4,
 "nbformat_minor": 2
}
