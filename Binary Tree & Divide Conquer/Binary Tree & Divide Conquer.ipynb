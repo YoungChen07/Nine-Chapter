{
 "cells": [
  {
   "cell_type": "markdown",
   "metadata": {},
   "source": [
    "### 104. Maximum Depth of Binary Tree\n",
    "https://leetcode.com/problems/maximum-depth-of-binary-tree/description/"
   ]
  },
  {
   "cell_type": "code",
   "execution_count": 1,
   "metadata": {},
   "outputs": [],
   "source": [
    "# Definition for a binary tree node.\n",
    "# class TreeNode:\n",
    "#     def __init__(self, x):\n",
    "#         self.val = x\n",
    "#         self.left = None\n",
    "#         self.right = None\n",
    "\n",
    "class Solution(object):\n",
    "    def maxDepth(self, root):\n",
    "        \"\"\"\n",
    "        :type root: TreeNode\n",
    "        :rtype: int\n",
    "        \"\"\"\n",
    "        if not root:\n",
    "            return 0\n",
    "        return max(self.maxDepth(root.left),self.maxDepth(root.right))+1"
   ]
  },
  {
   "cell_type": "markdown",
   "metadata": {},
   "source": [
    "### 144. Binary Tree Preorder Traversal\n",
    "https://leetcode.com/problems/binary-tree-preorder-traversal/description/"
   ]
  },
  {
   "cell_type": "code",
   "execution_count": null,
   "metadata": {},
   "outputs": [],
   "source": [
    "# Definition for a binary tree node.\n",
    "# class TreeNode:\n",
    "#     def __init__(self, x):\n",
    "#         self.val = x\n",
    "#         self.left = None\n",
    "#         self.right = None\n",
    "\n",
    "class Solution:\n",
    "    \"\"\"\n",
    "    @param root: The root of binary tree.\n",
    "    @return: Preorder in ArrayList which contains node values.\n",
    "    \"\"\"\n",
    "    def preorderTraversal(self, root):\n",
    "        self.results = []\n",
    "        self.traverse(root)\n",
    "        return self.results\n",
    "        \n",
    "    def traverse(self, root):\n",
    "        if root is None:\n",
    "            return\n",
    "        self.results.append(root.val)\n",
    "        self.traverse(root.left)\n",
    "        self.traverse(root.right)"
   ]
  },
  {
   "cell_type": "markdown",
   "metadata": {},
   "source": [
    "### 124. Binary Tree Maximum Path Sum\n",
    "https://leetcode.com/problems/binary-tree-maximum-path-sum/description/"
   ]
  },
  {
   "cell_type": "code",
   "execution_count": null,
   "metadata": {},
   "outputs": [],
   "source": []
  },
  {
   "cell_type": "markdown",
   "metadata": {},
   "source": [
    "### 285. Inorder Successor in BST\n",
    "https://leetcode.com/problems/inorder-successor-in-bst/description/\n",
    "\n",
    "Given a binary search tree and a node in it, find the in-order successor of that node in the BST.\n",
    "\n",
    "Note: If the given node has no in-order successor in the tree, return null.\n",
    "\n",
    "Example 1:\n",
    "\n",
    "Input: root = [2,1,3], p = 1\n",
    "\n",
    "      2\n",
    "     / \\\n",
    "    1   3\n",
    "\n",
    "Output: 2\n",
    "Example 2:\n",
    "\n",
    "Input: root = [5,3,6,2,4,null,null,1], p = 6\n",
    "\n",
    "          5\n",
    "         / \\\n",
    "        3   6\n",
    "       / \\\n",
    "      2   4\n",
    "     /   \n",
    "    1\n",
    "\n",
    "Output: null\n",
    "\n",
    "\n",
    "https://www.geeksforgeeks.org/inorder-successor-in-binary-search-tree/"
   ]
  },
  {
   "cell_type": "markdown",
   "metadata": {},
   "source": [
    "1) If right subtree of node is not NULL, then succ lies in right subtree. Do following.\n",
    "\n",
    "Go to right subtree and return the node with minimum key value in right subtree.\n",
    "\n",
    "2) If right sbtree of node is NULL, then start from root and us search like technique. Do following."
   ]
  },
  {
   "cell_type": "code",
   "execution_count": 1,
   "metadata": {},
   "outputs": [],
   "source": [
    "class Solution:\n",
    "    \"\"\"\n",
    "    @param: root: The root of the BST.\n",
    "    @param: p: You need find the successor node of p.\n",
    "    @return: Successor of p.\n",
    "    \"\"\"\n",
    "    def inorderSuccessor(self, root, p):\n",
    "        # write your code here\n",
    "        successor = None\n",
    "        while root:\n",
    "            if root.val > p.val:\n",
    "                successor = root\n",
    "                root = root.left\n",
    "            else:\n",
    "                root = root.right\n",
    "        return successor"
   ]
  },
  {
   "cell_type": "markdown",
   "metadata": {},
   "source": [
    "### 98. Validate Binary Search Tree\n",
    "https://leetcode.com/problems/validate-binary-search-tree/description/"
   ]
  },
  {
   "cell_type": "code",
   "execution_count": null,
   "metadata": {},
   "outputs": [],
   "source": [
    "# Definition for a binary tree node.\n",
    "# class TreeNode:\n",
    "#     def __init__(self, x):\n",
    "#         self.val = x\n",
    "#         self.left = None\n",
    "#         self.right = None\n",
    "\n",
    "\"\"\"\n",
    "divide and conquer: set the bound for each subtree. If beyond, false.\n",
    "Start with system max and min.\n",
    "Update max value for left subtree with root value.\n",
    "Update min value for right subtree with root value.\n",
    "Return true when both sides are true\n",
    "\"\"\"\n",
    "\n",
    "class Solution:\n",
    "    \"\"\"\n",
    "    @param root: The root of binary tree.\n",
    "    @return: True if the binary tree is BST, or false\n",
    "    \"\"\"\n",
    "    import sys\n",
    "    \n",
    "    def isValidBST(self, root):\n",
    "        # write your code here\n",
    "        if root is None: return True\n",
    "        MAX = sys.maxsize\n",
    "        MIN = -sys.maxsize-1\n",
    "        return self.dfs(root, MIN, MAX)\n",
    "        \n",
    "    def dfs(self, root, Min, Max):\n",
    "        \n",
    "        if root is None: return True\n",
    "        if root.val >= Max or root.val <= Min :\n",
    "            return False\n",
    "        \n",
    "        return self.dfs(root.left, Min, root.val) and self.dfs(root.right, root.val, Max)"
   ]
  },
  {
   "cell_type": "markdown",
   "metadata": {},
   "source": [
    "### 110. Balanced Binary Tree\n",
    "https://leetcode.com/problems/balanced-binary-tree/description/\n",
    "\n",
    "\n",
    "https://leetcode.com/problems/balanced-binary-tree/discuss/157645/Python-DFS-tm"
   ]
  },
  {
   "cell_type": "code",
   "execution_count": null,
   "metadata": {},
   "outputs": [],
   "source": [
    "class Solution:\n",
    "    def maxDepth(self, root):\n",
    "            \n",
    "        if not root:\n",
    "            return 0\n",
    "        left_depth = self.maxDepth(root.left)\n",
    "        right_depth = self.maxDepth(root.right)\n",
    "        return max(left_depth, right_depth) + 1\n",
    "    \n",
    "    def isBalanced(self, root):\n",
    "        \"\"\"\n",
    "        :type root: TreeNode\n",
    "        :rtype: bool\n",
    "        \"\"\"\n",
    "        if not root: return True\n",
    "        \n",
    "        if abs(self.maxDepth(root.left) - self.maxDepth(root.right)) > 1:\n",
    "            return False\n",
    "        else:\n",
    "            return self.isBalanced(root.left) and self.isBalanced(root.right)"
   ]
  },
  {
   "cell_type": "code",
   "execution_count": null,
   "metadata": {},
   "outputs": [],
   "source": [
    "class Solution(object):\n",
    "    def isBalanced(self, root):\n",
    "        height = self.get_height(root)\n",
    "        return height != -1\n",
    "\n",
    "        \n",
    "    def get_height(self, root):\n",
    "        if not root: return 0\n",
    "        left = self.get_height(root.left)\n",
    "        right = self.get_height(root.right)\n",
    "        if left == -1 or right == -1 : return -1          \n",
    "        if abs(left - right) > 1:  return -1\n",
    "        return max(left, right) + 1"
   ]
  },
  {
   "cell_type": "markdown",
   "metadata": {},
   "source": [
    "### 236. Lowest Common Ancestor of a Binary Tree\n",
    "https://leetcode.com/problems/lowest-common-ancestor-of-a-binary-tree/description/"
   ]
  },
  {
   "cell_type": "code",
   "execution_count": null,
   "metadata": {},
   "outputs": [],
   "source": [
    "# Definition for a binary tree node.\n",
    "# class TreeNode(object):\n",
    "#     def __init__(self, x):\n",
    "#         self.val = x\n",
    "#         self.left = None\n",
    "#         self.right = None\n",
    "\n",
    "class Solution:\n",
    "    \"\"\"\n",
    "    @param: root: The root of the binary search tree.\n",
    "    @param: A: A TreeNode in a Binary.\n",
    "    @param: B: A TreeNode in a Binary.\n",
    "    @return: Return the lowest common ancestor(LCA) of the two nodes.\n",
    "    \"\"\"\n",
    "    def lowestCommonAncestor(self, root, A, B):\n",
    "        # 找到了返回LCA\n",
    "        # 只有A返回A\n",
    "        # 只有B返回B\n",
    "        # 如果都没有返回full\n",
    "        if root is None or root == A or root == B:\n",
    "            return root\n",
    "        \n",
    "        left_result = self.lowestCommonAncestor(root.left, A, B)\n",
    "        right_result = self.lowestCommonAncestor(root.right, A, B)\n",
    "        \n",
    "        # A 和 B 一边一个\n",
    "        if left_result and right_result: \n",
    "            return root\n",
    "        \n",
    "        # 左子树有一个点或者左子树有LCA\n",
    "        if left_result:\n",
    "            return left_result\n",
    "        \n",
    "        # 右子树有一个点或者右子树有LCA\n",
    "        if right_result:\n",
    "            return right_result\n",
    "        \n",
    "        # 左右子树啥都没有\n",
    "        return None"
   ]
  },
  {
   "cell_type": "markdown",
   "metadata": {},
   "source": [
    "### 102. Binary Tree Level Order Traversal\n",
    "https://leetcode.com/problems/binary-tree-level-order-traversal/description/\n",
    "\n",
    "https://leetcode.com/problems/binary-tree-level-order-traversal/discuss/154852/Python-BFS-and-DFS-tm"
   ]
  },
  {
   "cell_type": "code",
   "execution_count": null,
   "metadata": {},
   "outputs": [],
   "source": [
    "class Solution(object):\n",
    "    def levelOrder(self, root):\n",
    "        res = []\n",
    "        if not root: \n",
    "            return res\n",
    "        q = [root]\n",
    "        while q :\n",
    "            res.append([node.val for node in q])\n",
    "            new_q = []\n",
    "            for node in q:\n",
    "                if node.left:\n",
    "                    new_q.append(node.left)\n",
    "                if node.right:\n",
    "                    new_q.append(node.right)\n",
    "            q = new_q\n",
    "        return res"
   ]
  },
  {
   "cell_type": "markdown",
   "metadata": {},
   "source": [
    "### 173. Binary Search Tree Iterator\n",
    "https://leetcode.com/problems/binary-search-tree-iterator/description/"
   ]
  },
  {
   "cell_type": "code",
   "execution_count": null,
   "metadata": {},
   "outputs": [],
   "source": [
    "class BSTIterator:\n",
    "    \"\"\"\n",
    "    @param: root: The root of binary tree.\n",
    "    \"\"\"\n",
    "    def __init__(self, root):\n",
    "        self.stack = []\n",
    "        while root != None:\n",
    "            self.stack.append(root)\n",
    "            root = root.left\n",
    "\n",
    "    \"\"\"\n",
    "    @return: True if there has next node, or false\n",
    "    \"\"\"\n",
    "    def hasNext(self):\n",
    "        return len(self.stack) > 0\n",
    "\n",
    "    \"\"\"\n",
    "    @return: return next node\n",
    "    \"\"\"\n",
    "    def next(self):\n",
    "        node = self.stack[-1]\n",
    "        if node.right is not None:\n",
    "            n = node.right\n",
    "            while n != None:\n",
    "                self.stack.append(n)\n",
    "                n = n.left\n",
    "        else:\n",
    "            n = self.stack.pop()\n",
    "            while self.stack and self.stack[-1].right == n:\n",
    "                n = self.stack.pop()\n",
    "        \n",
    "        return node.val"
   ]
  }
 ],
 "metadata": {
  "kernelspec": {
   "display_name": "Python 3",
   "language": "python",
   "name": "python3"
  },
  "language_info": {
   "codemirror_mode": {
    "name": "ipython",
    "version": 3
   },
   "file_extension": ".py",
   "mimetype": "text/x-python",
   "name": "python",
   "nbconvert_exporter": "python",
   "pygments_lexer": "ipython3",
   "version": "3.6.7"
  }
 },
 "nbformat": 4,
 "nbformat_minor": 2
}
