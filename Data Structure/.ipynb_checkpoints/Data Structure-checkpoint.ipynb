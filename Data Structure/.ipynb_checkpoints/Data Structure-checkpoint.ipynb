{
 "cells": [
  {
   "cell_type": "markdown",
   "metadata": {},
   "source": [
    "### Lintcode 486. Merge K Sorted Arrays\n",
    "\n",
    "https://www.lintcode.com/problem/merge-k-sorted-arrays/description\n",
    "\n",
    "https://www.geeksforgeeks.org/merge-k-sorted-arrays-set-2-different-sized-arrays/"
   ]
  },
  {
   "cell_type": "code",
   "execution_count": null,
   "metadata": {},
   "outputs": [],
   "source": [
    "# Time:  O(nlogk)\n",
    "# Space: O(1)\n",
    "\n",
    "# Merge k sorted linked lists and return it as one sorted list.\n",
    "# Analyze and describe its complexity.\n",
    "\n",
    "# Definition for singly-linked list.\n",
    "class ListNode(object):\n",
    "    def __init__(self, x):\n",
    "        self.val = x\n",
    "        self.next = None\n",
    "\n",
    "    def __repr__(self):     \n",
    "        if self:        \n",
    "            return \"{} -> {}\".format(self.val, self.next)\n",
    "\n",
    "\n",
    "# Merge two by two solution.\n",
    "class Solution(object):\n",
    "    def mergeKLists(self, lists):\n",
    "        \"\"\"\n",
    "        :type lists: List[ListNode]\n",
    "        :rtype: ListNode\n",
    "        \"\"\"\n",
    "        def mergeTwoLists(l1, l2):\n",
    "            curr = dummy = ListNode(0)\n",
    "            while l1 and l2:\n",
    "                if l1.val < l2.val:\n",
    "                    curr.next = l1\n",
    "                    l1 = l1.next\n",
    "                else:\n",
    "                    curr.next = l2\n",
    "                    l2 = l2.next\n",
    "                curr = curr.next\n",
    "            curr.next = l1 or l2\n",
    "            return dummy.next\n",
    "\n",
    "        if not lists:\n",
    "            return None\n",
    "        left, right = 0, len(lists) - 1;\n",
    "        while right > 0:\n",
    "            if left >= right:\n",
    "                left = 0\n",
    "            else:\n",
    "                lists[left] = mergeTwoLists(lists[left], lists[right])\n",
    "                left += 1\n",
    "                right -= 1\n",
    "        return lists[0]\n",
    "\n",
    "\n",
    "# Time:  O(nlogk)\n",
    "# Space: O(logk)\n",
    "# Divide and Conquer solution.\n",
    "class Solution2:\n",
    "    # @param a list of ListNode\n",
    "    # @return a ListNode\n",
    "    def mergeKLists(self, lists):\n",
    "        def mergeTwoLists(l1, l2):\n",
    "            curr = dummy = ListNode(0)\n",
    "            while l1 and l2:\n",
    "                if l1.val < l2.val:\n",
    "                    curr.next = l1\n",
    "                    l1 = l1.next\n",
    "                else:\n",
    "                    curr.next = l2\n",
    "                    l2 = l2.next\n",
    "                curr = curr.next\n",
    "            curr.next = l1 or l2\n",
    "            return dummy.next\n",
    "\n",
    "        def mergeKListsHelper(lists, begin, end):\n",
    "            if begin > end:\n",
    "                return None\n",
    "            if begin == end:\n",
    "                return lists[begin]\n",
    "            return mergeTwoLists(mergeKListsHelper(lists, begin, (begin + end) / 2), \\\n",
    "                                 mergeKListsHelper(lists, (begin + end) / 2 + 1, end))\n",
    "\n",
    "        return mergeKListsHelper(lists, 0, len(lists) - 1)\n",
    "\n",
    "\n",
    "# Time:  O(nlogk)\n",
    "# Space: O(k)\n",
    "# Heap solution.\n",
    "import heapq\n",
    "class Solution3:\n",
    "    # @param a list of ListNode\n",
    "    # @return a ListNode\n",
    "    def mergeKLists(self, lists):\n",
    "        dummy = ListNode(0)\n",
    "        current = dummy\n",
    "\n",
    "        heap = []\n",
    "        for sorted_list in lists:\n",
    "            if sorted_list:\n",
    "                heapq.heappush(heap, (sorted_list.val, sorted_list))\n",
    "\n",
    "        while heap:\n",
    "            smallest = heapq.heappop(heap)[1]\n",
    "            current.next = smallest\n",
    "            current = current.next\n",
    "            if smallest.next:\n",
    "                heapq.heappush(heap, (smallest.next.val, smallest.next))\n",
    "\n",
    "        return dummy.next\n",
    "\n",
    "\n",
    "if __name__ == \"__main__\":\n",
    "    list1 = ListNode(1)\n",
    "    list1.next = ListNode(3)\n",
    "    list2 = ListNode(2)\n",
    "    list2.next = ListNode(4)\n",
    "\n",
    "    print Solution().mergeKLists([list1, list2])"
   ]
  },
  {
   "cell_type": "markdown",
   "metadata": {},
   "source": [
    "### 692. Top K Frequent Words\n",
    "\n",
    "https://leetcode.com/problems/top-k-frequent-words/"
   ]
  },
  {
   "cell_type": "code",
   "execution_count": 7,
   "metadata": {},
   "outputs": [],
   "source": [
    "class Solution(object):\n",
    "    def topKFrequent(self, words, k):\n",
    "        count = collections.Counter(words)\n",
    "        candidates = count.keys()\n",
    "        print(candidates.sort(key = lambda w: (-count[w], w)))\n",
    "        return candidates[:k]"
   ]
  },
  {
   "cell_type": "code",
   "execution_count": null,
   "metadata": {},
   "outputs": [],
   "source": [
    "class Solution(object):\n",
    "    def topKFrequent(self, words, k):\n",
    "        count = collections.Counter(words)\n",
    "        heap = [(-freq, word) for word, freq in count.items()]\n",
    "        heapq.heapify(heap)\n",
    "        return [heapq.heappop(heap)[1] for _ in range(k)]"
   ]
  },
  {
   "cell_type": "markdown",
   "metadata": {},
   "source": [
    "### 763. Partition Labels\n",
    "\n",
    "https://leetcode.com/problems/partition-labels/"
   ]
  },
  {
   "cell_type": "markdown",
   "metadata": {},
   "source": [
    "让我们从最直观的想法考虑：如果我们从左到右读字符串S，假设把一个字符'w'划入了当前的子串当中，那么S中所有'w'必须都在这个子串中。\n",
    "2. 这也就意味着子串的右边界不能低于最后一个'w'。然而，在这两个'w'中可能还有其他字符，这些字符也要满足上述条件，这可能会让子串变大。\n",
    "3. 比如S是\"abccaddbeffe\"，如果只看'a'，最小子串必须包含”abcca”，而其中又有'b'和'c'，所以最后一个'b'和'c'也要在子串中……重复上述步骤，最终得到“abccaddb”。\n",
    "4. 这样我们就有了算法思路：首先，为了能很快的找到任意字符的最右下标，需要提前遍历一边字符串，并用map记录最右下标。\n",
    "5. 再次遍历字符串S，用left和right表示当前子串的左边界和右边界，扩展当前的右边界right*=max(right，当前字符的最右下标）。如果已经遍历到了right位置，这时我们就可切出一个子串，这个子串的下标是从left到right（包括right），之后再设置left为下一个字符的下标。重复上述操作，直到遍历完S*。\n",
    "6. 复杂度分析：\n",
    "1. 时间复杂度：O(N)，N是字符串S的长度。两次遍历S，每一次访问都是固定时间。\n",
    "2. 空间复杂度：O(1)，这里容易被认为是O(N)，但实际上只需要固定空间就够了，因为只有26个字母，map最多只需要26个条目，字符串最多也只能切出26个部分，也即结果的List中不会超过26个数。所以，空间大小是固定的。"
   ]
  },
  {
   "cell_type": "code",
   "execution_count": null,
   "metadata": {},
   "outputs": [],
   "source": [
    "class Solution(object):\n",
    "    def partitionLabels(self, S):\n",
    "        last = {c: i for i, c in enumerate(S)}\n",
    "        right = left = 0\n",
    "        ans = []\n",
    "        for i, c in enumerate(S):\n",
    "            right = max(right, last[c])\n",
    "            if i == right:\n",
    "                ans.append(i - left + 1)\n",
    "                left = i + 1\n",
    "            \n",
    "        return ans"
   ]
  },
  {
   "cell_type": "markdown",
   "metadata": {},
   "source": [
    "### 129. Rehashing\n",
    "\n",
    "https://www.lintcode.com/problem/rehashing/description"
   ]
  },
  {
   "cell_type": "code",
   "execution_count": null,
   "metadata": {},
   "outputs": [],
   "source": [
    "class Solution:\n",
    "    def addlistnode(self, node, number):\n",
    "        if node.next != None:\n",
    "            self.addlistnode(node.next, number)\n",
    "        else:\n",
    "            node.next = ListNode(number)\n",
    "\n",
    "    def addnode(self, anshashTable, number):\n",
    "        p = number % len(anshashTable)\n",
    "        if anshashTable[p] == None:\n",
    "            anshashTable[p] = ListNode(number)\n",
    "        else:\n",
    "            self.addlistnode(anshashTable[p], number)\n",
    "\n",
    "    def rehashing(self,hashTable):\n",
    "        HASH_SIZE = 2 * len(hashTable)\n",
    "        anshashTable = [None for i in range(HASH_SIZE)]\n",
    "        for item in hashTable:\n",
    "            p = item\n",
    "            while p != None:\n",
    "                self.addnode(anshashTable,p.val)\n",
    "                p = p.next\n",
    "        return anshashTable"
   ]
  },
  {
   "cell_type": "markdown",
   "metadata": {},
   "source": [
    "### 128. Longest Consecutive Sequence\n",
    "\n",
    "https://leetcode.com/problems/longest-consecutive-sequence/"
   ]
  },
  {
   "cell_type": "code",
   "execution_count": null,
   "metadata": {},
   "outputs": [],
   "source": []
  },
  {
   "cell_type": "markdown",
   "metadata": {},
   "source": [
    "### 23. Merge k Sorted Lists\n",
    "\n",
    "https://leetcode.com/problems/merge-k-sorted-lists/"
   ]
  },
  {
   "cell_type": "code",
   "execution_count": null,
   "metadata": {},
   "outputs": [],
   "source": []
  },
  {
   "cell_type": "markdown",
   "metadata": {},
   "source": [
    "### 232. Implement Queue using Stacks\n",
    "\n",
    "https://leetcode.com/problems/implement-queue-using-stacks/"
   ]
  },
  {
   "cell_type": "code",
   "execution_count": null,
   "metadata": {},
   "outputs": [],
   "source": [
    "class MyQueue:\n",
    "\n",
    "    def __init__(self):\n",
    "        \"\"\"\n",
    "        Initialize your data structure here.\n",
    "        \"\"\"\n",
    "        self.main_stack = []\n",
    "        self.temp_stack = []\n",
    "        \n",
    "\n",
    "    def push(self, x):\n",
    "        \"\"\"\n",
    "        Push element x to the back of queue.\n",
    "        :type x: int\n",
    "        :rtype: void\n",
    "        \"\"\"\n",
    "        if len(self.main_stack) == 0:\n",
    "            while len(self.temp_stack) != 0:\n",
    "                self.main_stack.append(self.temp_stack.pop())\n",
    "\n",
    "        self.main_stack.append(x)\n",
    "        \n",
    "\n",
    "    def pop(self):\n",
    "        \"\"\"\n",
    "        Removes the element from in front of queue and returns that element.\n",
    "        :rtype: int\n",
    "        \"\"\"\n",
    "        if len(self.temp_stack) == 0:\n",
    "            while len(self.main_stack) != 0:\n",
    "                self.temp_stack.append(self.main_stack.pop())\n",
    "\n",
    "        return self.temp_stack.pop()\n",
    "        \n",
    "\n",
    "    def peek(self):\n",
    "        \"\"\"\n",
    "        Get the front element.\n",
    "        :rtype: int\n",
    "        \"\"\"\n",
    "        if len(self.temp_stack) == 0:\n",
    "            while len(self.main_stack) != 0:\n",
    "                self.temp_stack.append(self.main_stack.pop())\n",
    "\n",
    "        return self.temp_stack[-1]\n",
    "        \n",
    "\n",
    "    def empty(self):\n",
    "        \"\"\"\n",
    "        Returns whether the queue is empty.\n",
    "        :rtype: bool\n",
    "        \"\"\"\n",
    "        if len(self.main_stack) == 0 and len(self.temp_stack) == 0:\n",
    "            return True\n",
    "        \n",
    "        return False"
   ]
  },
  {
   "cell_type": "markdown",
   "metadata": {},
   "source": [
    "### 225. Implement Stack using Queues\n",
    "\n",
    "https://leetcode.com/problems/implement-stack-using-queues/"
   ]
  },
  {
   "cell_type": "code",
   "execution_count": null,
   "metadata": {},
   "outputs": [],
   "source": [
    "# C++ 自己推自己，知道最后一个到前面\n",
    "class Stack {\n",
    "    queue<int> q;\n",
    "public:\n",
    "    void push(int x) {\n",
    "        q.push(x);\n",
    "        for (int i=1; i<q.size(); i++) {\n",
    "            q.push(q.front());\n",
    "            q.pop();\n",
    "        }\n",
    "    }\n",
    "\n",
    "    void pop() {\n",
    "        q.pop();\n",
    "    }\n",
    "\n",
    "    int top() {\n",
    "        return q.front();\n",
    "    }\n",
    "\n",
    "    bool empty() {\n",
    "        return q.empty();\n",
    "    }\n",
    "};"
   ]
  },
  {
   "cell_type": "code",
   "execution_count": null,
   "metadata": {},
   "outputs": [],
   "source": [
    "class Stack:\n",
    "\n",
    "    def __init__(self):\n",
    "        self._queue = collections.deque()\n",
    "\n",
    "    def push(self, x):\n",
    "        q = self._queue\n",
    "        q.append(x)\n",
    "        for _ in range(len(q) - 1):\n",
    "            q.append(q.popleft())\n",
    "        \n",
    "    def pop(self):\n",
    "        return self._queue.popleft()\n",
    "\n",
    "    def top(self):\n",
    "        return self._queue[0]\n",
    "    \n",
    "    def empty(self):\n",
    "        return not len(self._queue)"
   ]
  },
  {
   "cell_type": "markdown",
   "metadata": {},
   "source": [
    "### 155. Min Stack\n",
    "\n",
    "https://leetcode.com/problems/min-stack/"
   ]
  },
  {
   "cell_type": "code",
   "execution_count": null,
   "metadata": {},
   "outputs": [],
   "source": [
    "class MinStack:\n",
    "    \n",
    "    def __init__(self):\n",
    "        self.stack = []\n",
    "        self.min_stack = []\n",
    "\n",
    "    \"\"\"\n",
    "    @param: number: An integer\n",
    "    @return: nothing\n",
    "    \"\"\"\n",
    "    def push(self, number):\n",
    "        self.stack.append(number)\n",
    "        if not self.min_stack or number <= self.min_stack[-1]:\n",
    "            self.min_stack.append(number)\n",
    "\n",
    "    \"\"\"\n",
    "    @return: An integer\n",
    "    \"\"\"\n",
    "    def pop(self):\n",
    "        number = self.stack.pop()\n",
    "        if number == self.min_stack[-1]:\n",
    "            self.min_stack.pop()\n",
    "        return number\n",
    "    \n",
    "    \"\"\"\n",
    "    @return: An integer\n",
    "    \"\"\"\n",
    "    def top(self):\n",
    "        number = self.stack[-1]\n",
    "        return number\n",
    "    \n",
    "    \"\"\"\n",
    "    @return: An integer\n",
    "    \"\"\"\n",
    "    def getMin(self):\n",
    "        return self.min_stack[-1]"
   ]
  },
  {
   "cell_type": "code",
   "execution_count": null,
   "metadata": {},
   "outputs": [],
   "source": [
    "class MinStack:\n",
    "\n",
    "def __init__(self):\n",
    "    self.q = []\n",
    "\n",
    "# @param x, an integer\n",
    "# @return an integer\n",
    "def push(self, x):\n",
    "    curMin = self.getMin()\n",
    "    if curMin == None or x < curMin:\n",
    "        curMin = x\n",
    "    self.q.append((x, curMin));\n",
    "\n",
    "# @return nothing\n",
    "def pop(self):\n",
    "    self.q.pop()\n",
    "\n",
    "\n",
    "# @return an integer\n",
    "def top(self):\n",
    "    if len(self.q) == 0:\n",
    "        return None\n",
    "    else:\n",
    "        return self.q[len(self.q) - 1][0]\n",
    "\n",
    "\n",
    "# @return an integer\n",
    "def getMin(self):\n",
    "    if len(self.q) == 0:\n",
    "        return None\n",
    "    else:\n",
    "        return self.q[len(self.q) - 1][1]"
   ]
  },
  {
   "cell_type": "markdown",
   "metadata": {},
   "source": [
    "### 263. Ugly Number\n",
    "\n",
    "https://leetcode.com/problems/ugly-number/"
   ]
  },
  {
   "cell_type": "code",
   "execution_count": null,
   "metadata": {},
   "outputs": [],
   "source": [
    "class Solution(object):\n",
    "    # @param {int} num an integer\n",
    "    # @return {boolean} true if num is an ugly number or false\n",
    "    def isUgly(self, num):\n",
    "        if num <= 0:\n",
    "            return False\n",
    "        if num == 1:\n",
    "            return True  \n",
    "          \n",
    "        while num >= 2 and num % 2 == 0:\n",
    "            num /= 2;  \n",
    "        while num >= 3 and num % 3 == 0:\n",
    "            num /= 3;  \n",
    "        while num >= 5 and num % 5 == 0:\n",
    "            num /= 5;  \n",
    "          \n",
    "        return num == 1"
   ]
  },
  {
   "cell_type": "markdown",
   "metadata": {},
   "source": [
    "### 264. Ugly Number II\n",
    "\n",
    "https://leetcode.com/problems/ugly-number-ii/"
   ]
  },
  {
   "cell_type": "code",
   "execution_count": 8,
   "metadata": {},
   "outputs": [],
   "source": [
    "n = 10"
   ]
  },
  {
   "cell_type": "code",
   "execution_count": 11,
   "metadata": {},
   "outputs": [],
   "source": [
    "import heapq\n",
    "\n",
    "class Solution:\n",
    "    \"\"\"\n",
    "    @param {int} n an integer.\n",
    "    @return {int} the nth prime number as description.\n",
    "    \"\"\"\n",
    "    def nthUglyNumber(self, n):\n",
    "        heap = [1]\n",
    "        visited = set([1])\n",
    "        \n",
    "        val = None\n",
    "        for i in range(n):\n",
    "            val = heapq.heappop(heap)\n",
    "            print(heap)\n",
    "            for multi in [2, 3, 5]:\n",
    "                if val * multi not in visited:\n",
    "                    visited.add(val * multi)\n",
    "                    heapq.heappush(heap, val * multi)\n",
    "            \n",
    "        return val"
   ]
  },
  {
   "cell_type": "code",
   "execution_count": 12,
   "metadata": {},
   "outputs": [
    {
     "name": "stdout",
     "output_type": "stream",
     "text": [
      "[]\n",
      "[3, 5]\n",
      "[4, 5, 10, 6]\n",
      "[5, 6, 10, 15, 9]\n",
      "[6, 9, 8, 15, 20, 10, 12]\n",
      "[8, 9, 10, 15, 20, 25, 12]\n",
      "[9, 15, 10, 18, 20, 25, 12, 30]\n",
      "[10, 15, 12, 16, 20, 25, 40, 30, 18, 24]\n",
      "[12, 15, 25, 16, 20, 45, 40, 30, 18, 24, 27]\n",
      "[15, 16, 25, 18, 20, 45, 40, 30, 50, 24, 27]\n"
     ]
    },
    {
     "data": {
      "text/plain": [
       "12"
      ]
     },
     "execution_count": 12,
     "metadata": {},
     "output_type": "execute_result"
    }
   ],
   "source": [
    "s = Solution()\n",
    "s.nthUglyNumber(n)"
   ]
  },
  {
   "cell_type": "code",
   "execution_count": null,
   "metadata": {},
   "outputs": [],
   "source": [
    "def nthUglyNumber(self, n):\n",
    "    ugly = [1]\n",
    "    i2, i3, i5 = 0, 0, 0\n",
    "    while n > 1:\n",
    "        u2, u3, u5 = 2 * ugly[i2], 3 * ugly[i3], 5 * ugly[i5]\n",
    "        umin = min((u2, u3, u5))\n",
    "        if umin == u2:\n",
    "            i2 += 1\n",
    "        if umin == u3:\n",
    "            i3 += 1\n",
    "        if umin == u5:\n",
    "            i5 += 1\n",
    "        ugly.append(umin)\n",
    "        n -= 1\n",
    "    return ugly[-1]"
   ]
  },
  {
   "cell_type": "code",
   "execution_count": null,
   "metadata": {},
   "outputs": [],
   "source": [
    "# C++\n",
    "class Solution {\n",
    "public:\n",
    "    /*\n",
    "     * @param n an integer\n",
    "     * @return the nth prime number as description.\n",
    "     */\n",
    "    int nthUglyNumber(int n) {\n",
    "        int *uglys = new int[n];\n",
    "        uglys[0] = 1;\n",
    "        int next = 1;\n",
    "        int *p2 = uglys;\n",
    "        int *p3 = uglys;\n",
    "        int *p5 = uglys;\n",
    "        while (next < n){\n",
    "            int m = min(min(*p2 * 2, *p3 * 3), *p5 * 5);\n",
    "            uglys[next] = m;\n",
    "            while (*p2 * 2 <= uglys[next])\n",
    "                *p2++;\n",
    "            while (*p3 * 3 <= uglys[next])\n",
    "                *p3++;\n",
    "            while (*p5 * 5 <= uglys[next])\n",
    "                *p5++;\n",
    "            next++;\n",
    "        }\n",
    "        int uglyNum = uglys[n - 1];\n",
    "        delete[] uglys;\n",
    "        return uglyNum;\n",
    "    }\n",
    "};"
   ]
  },
  {
   "cell_type": "markdown",
   "metadata": {},
   "source": [
    "### 146. LRU Cache\n",
    "\n",
    "https://leetcode.com/problems/lru-cache/"
   ]
  },
  {
   "cell_type": "code",
   "execution_count": null,
   "metadata": {},
   "outputs": [],
   "source": []
  },
  {
   "cell_type": "markdown",
   "metadata": {},
   "source": [
    "### 84. Largest Rectangle in Histogram\n",
    "\n",
    "https://leetcode.com/problems/largest-rectangle-in-histogram/"
   ]
  },
  {
   "cell_type": "code",
   "execution_count": null,
   "metadata": {},
   "outputs": [],
   "source": []
  }
 ],
 "metadata": {
  "kernelspec": {
   "display_name": "Python 3",
   "language": "python",
   "name": "python3"
  },
  "language_info": {
   "codemirror_mode": {
    "name": "ipython",
    "version": 3
   },
   "file_extension": ".py",
   "mimetype": "text/x-python",
   "name": "python",
   "nbconvert_exporter": "python",
   "pygments_lexer": "ipython3",
   "version": "3.6.7"
  }
 },
 "nbformat": 4,
 "nbformat_minor": 2
}
