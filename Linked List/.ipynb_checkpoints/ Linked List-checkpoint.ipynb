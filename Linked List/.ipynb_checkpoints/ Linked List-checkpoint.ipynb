{
 "cells": [
  {
   "cell_type": "markdown",
   "metadata": {},
   "source": [
    "### 19. Remove Nth Node From End of List\n",
    "\n",
    "https://leetcode.com/problems/remove-nth-node-from-end-of-list/description/"
   ]
  },
  {
   "cell_type": "code",
   "execution_count": null,
   "metadata": {},
   "outputs": [],
   "source": [
    "class Solution(object):\n",
    "    def removeNthFromEnd(self, head, n):\n",
    "        \"\"\"\n",
    "        :type head: ListNode\n",
    "        :type n: int\n",
    "        :rtype: ListNode\n",
    "        \"\"\"\n",
    "        dummy = ListNode(-1)\n",
    "        dummy.next = head\n",
    "        second = dummy\n",
    "        for i in range(0, n):\n",
    "             head = head.next\n",
    "        while head:\n",
    "            head=head.next\n",
    "            second=second.next\n",
    "        second.next=second.next.next\n",
    "        return dummy.next"
   ]
  },
  {
   "cell_type": "markdown",
   "metadata": {},
   "source": [
    "### 86. Partition List\n",
    "\n",
    "https://leetcode.com/problems/partition-list/description/"
   ]
  },
  {
   "cell_type": "code",
   "execution_count": null,
   "metadata": {},
   "outputs": [],
   "source": [
    "class Solution(object):\n",
    "    def partition(self, head, x):\n",
    "        \"\"\"\n",
    "        :type head: ListNode\n",
    "        :type x: int\n",
    "        :rtype: ListNode\n",
    "        \"\"\"\n",
    "        if head is None:\n",
    "            return head\n",
    "        less = ListNode(-1)\n",
    "        large = ListNode(-2)\n",
    "        largedummy = large \n",
    "        lessdummy = less\n",
    "        while head:\n",
    "            if head.val<x:\n",
    "                less.next=head\n",
    "                less=less.next\n",
    "            else:\n",
    "                large.next= head\n",
    "                large=large.next\n",
    "                \n",
    "            head=head.next\n",
    "        large.next = None\n",
    "        less.next=largedummy.next\n",
    "        \n",
    "        return lessdummy.next"
   ]
  },
  {
   "cell_type": "markdown",
   "metadata": {},
   "source": [
    "#### why need let large.next = None.\n",
    "\n",
    "since Failing to do this would result in an unterminated, cyclic list. Consider 10 -> 1 -> 2 -> 3 with x equal 5. The resulting list would be 1 -> 2 -> 3 -> 10 -> 1 -> 2 -> 3 -> 10 -> 1 ...\n",
    "\n",
    "This is because the 10 node's next has never been changed from pointing to 1 as it was in the original input list. Setting it to null will terminate the list and avoid the cycle."
   ]
  },
  {
   "cell_type": "markdown",
   "metadata": {},
   "source": [
    "### 83. Remove Duplicates from Sorted List\n",
    "\n",
    "https://leetcode.com/problems/remove-duplicates-from-sorted-list/description/"
   ]
  },
  {
   "cell_type": "code",
   "execution_count": null,
   "metadata": {},
   "outputs": [],
   "source": [
    "class Solution(object):\n",
    "    def deleteDuplicates(self, head):\n",
    "        \"\"\"\n",
    "        :type head: ListNode\n",
    "        :rtype: ListNode\n",
    "        \"\"\"\n",
    "        if head is None:\n",
    "            return []\n",
    "        dummy = ListNode(-1)\n",
    "        dummy.next = head\n",
    "        temp=head.val\n",
    "        while head.next:\n",
    "            if head.next.val == temp:\n",
    "                head.next=head.next.next\n",
    "            else:\n",
    "                head=head.next\n",
    "                temp=head.val\n",
    "      \n",
    "        return dummy.next"
   ]
  },
  {
   "cell_type": "markdown",
   "metadata": {},
   "source": [
    "### 82. Remove Duplicates from Sorted List II\n",
    "\n",
    "https://leetcode.com/problems/remove-duplicates-from-sorted-list-ii/description/"
   ]
  },
  {
   "cell_type": "code",
   "execution_count": null,
   "metadata": {},
   "outputs": [],
   "source": [
    "class Solution(object):\n",
    "    def deleteDuplicates(self, head):\n",
    "        \"\"\"\n",
    "        :type head: ListNode\n",
    "        :rtype: ListNode\n",
    "        \"\"\"\n",
    "        if (head is None) or (head.next is None):\n",
    "            return head\n",
    "        \n",
    "        dummy = ListNode(-1)\n",
    "        dummy.next = head\n",
    "        temp = head.next.val\n",
    "        head=dummy\n",
    "        \n",
    "        while head.next and head.next.next:\n",
    "            \n",
    "            if head.next.val==head.next.next.val:\n",
    "                temp = head.next.val\n",
    "                while head.next and (head.next.val==temp):\n",
    "                    head.next=head.next.next\n",
    "            else:\n",
    "                head = head.next\n",
    "                \n",
    "        return dummy.next"
   ]
  },
  {
   "cell_type": "markdown",
   "metadata": {},
   "source": [
    "特别注意两个while 判断的顺序\n",
    "\n",
    "第一个先 head.next 再 head.next.next\n",
    "\n",
    "第二个先head.next 再比较\n",
    "\n",
    "不然无法解决 [1,1,1,1]这样的case\n",
    "\n",
    "head = dummy 为了防止一开始是连续的"
   ]
  },
  {
   "cell_type": "markdown",
   "metadata": {},
   "source": [
    "### 109. Convert Sorted List to Binary Search Tree\n",
    "\n",
    "https://leetcode.com/problems/convert-sorted-list-to-binary-search-tree/description/"
   ]
  },
  {
   "cell_type": "code",
   "execution_count": null,
   "metadata": {},
   "outputs": [],
   "source": [
    "# Definition for singly-linked list.\n",
    "# class ListNode(object):\n",
    "#     def __init__(self, x):\n",
    "#         self.val = x\n",
    "#         self.next = None\n",
    "\n",
    "# Definition for a binary tree node.\n",
    "# class TreeNode(object):\n",
    "#     def __init__(self, x):\n",
    "#         self.val = x\n",
    "#         self.left = None\n",
    "#         self.right = None\n",
    "\n",
    "class Solution(object):\n",
    "    def sortedListToBST(self, head):\n",
    "        # write your code here\n",
    "\n",
    "        # base case\n",
    "        if not head:\n",
    "            return head\n",
    "\n",
    "        if not head.next:\n",
    "            return TreeNode(head.val)\n",
    "\n",
    "        # find middle position of current Linked List\n",
    "        slow, fast = head, head.next\n",
    "        while fast.next and fast.next.next:\n",
    "            slow = slow.next\n",
    "            fast = fast.next.next\n",
    "\n",
    "        # create TreeNode\n",
    "        mid = slow.next\n",
    "        slow.next = None\n",
    "        root = TreeNode(mid.val)\n",
    "\n",
    "        # recursive case\n",
    "        root.left  = self.sortedListToBST(head)\n",
    "        root.right = self.sortedListToBST(mid.next)\n",
    "\n",
    "        return root"
   ]
  },
  {
   "cell_type": "markdown",
   "metadata": {},
   "source": [
    "### 138. Copy List with Random Pointer\n",
    "\n",
    "https://leetcode.com/problems/copy-list-with-random-pointer/description/"
   ]
  },
  {
   "cell_type": "code",
   "execution_count": null,
   "metadata": {},
   "outputs": [],
   "source": [
    "class Solution(object):\n",
    "    def __init__(self):\n",
    "        # Creating a visited dictionary to hold old node reference as \"key\" and new node reference as the \"value\"\n",
    "        self.visited = {}\n",
    "\n",
    "    def getClonedNode(self, node):\n",
    "        # If node exists then\n",
    "        if node:\n",
    "            # Check if its in the visited dictionary          \n",
    "            if node in self.visited:\n",
    "                # If its in the visited dictionary then return the new node reference from the dictionary\n",
    "                return self.visited[node]\n",
    "            else:\n",
    "                # Otherwise create a new node, save the reference in the visited dictionary and return it.\n",
    "                self.visited[node] = RandomListNode(node.label)\n",
    "                return self.visited[node]\n",
    "        return None\n",
    "\n",
    "    def copyRandomList(self, head):\n",
    "        \"\"\"\n",
    "        :type head: RandomListNode\n",
    "        :rtype: RandomListNode\n",
    "        \"\"\"\n",
    "\n",
    "        if not head:\n",
    "            return head"
   ]
  },
  {
   "cell_type": "markdown",
   "metadata": {},
   "source": [
    "### 143. Reorder List\n",
    "\n",
    "https://leetcode.com/problems/reorder-list/description/"
   ]
  },
  {
   "cell_type": "code",
   "execution_count": null,
   "metadata": {},
   "outputs": [],
   "source": []
  },
  {
   "cell_type": "markdown",
   "metadata": {},
   "source": [
    "### 148. Sort List\n",
    "\n",
    "https://leetcode.com/problems/sort-list/description/"
   ]
  },
  {
   "cell_type": "code",
   "execution_count": null,
   "metadata": {},
   "outputs": [],
   "source": []
  },
  {
   "cell_type": "markdown",
   "metadata": {},
   "source": [
    "### 206. Reverse Linked List\n",
    "\n",
    "https://leetcode.com/problems/reverse-linked-list/description/"
   ]
  },
  {
   "cell_type": "markdown",
   "metadata": {},
   "source": [
    " (Iterative) [Accepted]\n",
    "Assume that we have linked list 1 → 2 → 3 → Ø, we would like to change it to Ø ← 1 ← 2 ← 3.\n",
    "\n",
    "While you are traversing the list, change the current node's next pointer to point to its previous element. Since a node does not have reference to its previous node, you must store its previous element beforehand. You also need another pointer to store the next node before changing the reference. Do not forget to return the new head reference at the end!"
   ]
  },
  {
   "cell_type": "code",
   "execution_count": null,
   "metadata": {},
   "outputs": [],
   "source": [
    "# Definition for singly-linked list.\n",
    "# class ListNode(object):\n",
    "#     def __init__(self, x):\n",
    "#         self.val = x\n",
    "#         self.next = None\n",
    "\n",
    "class Solution(object):\n",
    "    def reverseList(self, head):\n",
    "        \"\"\"\n",
    "        :type head: ListNode\n",
    "        :rtype: ListNode\n",
    "        \"\"\"\n",
    "        # 1 -> 2 -> 3 -> null\n",
    "        #用temp存curr.next\n",
    "        #先把curr往前指向pre  \n",
    "        # null <- 1  2 -> 3 -> null\n",
    "        # p       c   t\n",
    "        #然后更新pre 再更新next \n",
    "        # null <- 1  2 -> 3 -> null\n",
    "        #         p  c,t\n",
    "        # 进入下个循环\n",
    "        \n",
    "        pre = None\n",
    "        curr = head\n",
    "        while curr:\n",
    "            temp_next = curr.next  \n",
    "            curr.next = pre\n",
    "            pre = curr\n",
    "            curr = temp_next\n",
    "        return pre "
   ]
  },
  {
   "cell_type": "markdown",
   "metadata": {},
   "source": [
    "The recursive version is slightly trickier and the key is to work backwards. Assume that the rest of the list had already been reversed, now how do I reverse the front part? Let's assume the list is: n1 → … → nk-1 → nk → nk+1 → … → nm → Ø\n",
    "\n",
    "Assume from node nk+1 to nm had been reversed and you are at node nk.\n",
    "\n",
    "n1 → … → nk-1 → nk → nk+1 ← … ← nm\n",
    "\n",
    "We want nk+1’s next node to point to nk.\n",
    "\n",
    "So,\n",
    "\n",
    "nk.next.next = nk;\n",
    "\n",
    "Be very careful that n1's next must point to Ø. If you forget about this, your linked list has a cycle in it. This bug could be caught if you test your code with a linked list of size 2."
   ]
  },
  {
   "cell_type": "code",
   "execution_count": null,
   "metadata": {},
   "outputs": [],
   "source": [
    "# Definition for singly-linked list.\n",
    "# class ListNode(object):\n",
    "#     def __init__(self, x):\n",
    "#         self.val = x\n",
    "#         self.next = None\n",
    "\n",
    "class Solution(object):\n",
    "    def reverseList(self, head):\n",
    "        \"\"\"\n",
    "        :type head: ListNode\n",
    "        :type m: int\n",
    "        :type n: int\n",
    "        :rtype: ListNode\n",
    "        \"\"\"\n",
    "        if (head == None) or (head.next == None):\n",
    "            return head\n",
    "        p = self.reverseList(head.next)\n",
    "        head.next.next = head\n",
    "        head.next = None\n",
    "        return p"
   ]
  },
  {
   "cell_type": "markdown",
   "metadata": {},
   "source": [
    "### 92. Reverse Linked List II\n",
    "\n",
    "https://leetcode.com/problems/reverse-linked-list-ii/description/"
   ]
  },
  {
   "cell_type": "code",
   "execution_count": null,
   "metadata": {},
   "outputs": [],
   "source": [
    "# Definition for singly-linked list.\n",
    "# class ListNode(object):\n",
    "#     def __init__(self, x):\n",
    "#         self.val = x\n",
    "#         self.next = None\n",
    "\n",
    "class Solution(object):\n",
    "    def reverse(self, head):\n",
    "        pre = None\n",
    "        curr = head\n",
    "        while curr:\n",
    "            temp_next = curr.next\n",
    "            curr.next = pre\n",
    "            pre = curr\n",
    "            curr = temp_next\n",
    "        return pre\n",
    "        \n",
    "    def reverseBetween(self, head, m, n):\n",
    "        \"\"\"\n",
    "        :type head: ListNode\n",
    "        :type m: int\n",
    "        :type n: int\n",
    "        :rtype: ListNode\n",
    "        \"\"\"\n",
    "        dummy = ListNode(-1)\n",
    "        dummy.next = head\n",
    "        pre = dummy\n",
    "        after = dummy\n",
    "        diff = n-m\n",
    "        while (m > 1):\n",
    "            pre = pre.next\n",
    "            m = m-1\n",
    "        while (n > 0):\n",
    "            after = after.next\n",
    "            n=n-1\n",
    "        end = after.next\n",
    "        after.next = None\n",
    "        begin = pre.next\n",
    "        begin = self.reverse(begin)\n",
    "        pre.next = begin\n",
    "        while (diff > 0):\n",
    "            begin=begin.next\n",
    "            diff = diff-1\n",
    "        begin.next = end\n",
    "        return dummy.next"
   ]
  },
  {
   "cell_type": "code",
   "execution_count": null,
   "metadata": {},
   "outputs": [],
   "source": [
    "class Solution:\n",
    "\n",
    "    def reverse(self, head):\n",
    "        prev = None\n",
    "        while head != None:\n",
    "            next = head.next\n",
    "            head.next = prev\n",
    "            prev = head\n",
    "            head = next\n",
    "        return prev\n",
    "\n",
    "    def findkth(self, head, k):\n",
    "        for i in xrange(k):\n",
    "            if head is None:\n",
    "                return None\n",
    "            head = head.next\n",
    "        return head\n",
    "\n",
    "    def reverseBetween(self, head, m, n):\n",
    "        dummy = ListNode(-1, head)\n",
    "        mth_prev = self.findkth(dummy, m - 1)\n",
    "        mth = mth_prev.next\n",
    "        nth = self.findkth(dummy, n)\n",
    "        nth_next = nth.next\n",
    "        nth.next = None\n",
    "\n",
    "        self.reverse(mth)\n",
    "        mth_prev.next = nth\n",
    "        mth.next = nth_next\n",
    "        return dummy.next"
   ]
  },
  {
   "cell_type": "markdown",
   "metadata": {},
   "source": [
    "### 141. Linked List Cycle\n",
    "\n",
    "https://leetcode.com/problems/linked-list-cycle/"
   ]
  },
  {
   "cell_type": "code",
   "execution_count": null,
   "metadata": {},
   "outputs": [],
   "source": [
    "class Solution(object):\n",
    "    def hasCycle(self, head):\n",
    "        \"\"\"\n",
    "        :type head: ListNode\n",
    "        :rtype: bool\n",
    "        \"\"\"\n",
    "        if (head == None) or (head.next == None):\n",
    "            return False\n",
    "        \n",
    "        fast = head.next\n",
    "        slow = head\n",
    "        \n",
    "        while (fast != slow):\n",
    "            if (fast == None) or (fast.next == None):\n",
    "                return False\n",
    "            fast = fast.next.next\n",
    "            slow = slow.next\n",
    "            \n",
    "        return True"
   ]
  },
  {
   "cell_type": "markdown",
   "metadata": {},
   "source": [
    "### 142. Linked List Cycle II\n",
    "\n",
    "https://leetcode.com/problems/linked-list-cycle-ii/\n",
    "\n",
    "https://leetcode.com/problems/linked-list-cycle-ii/discuss/44783/Share-my-python-solution-with-detailed-explanation"
   ]
  },
  {
   "cell_type": "code",
   "execution_count": 1,
   "metadata": {},
   "outputs": [],
   "source": [
    "\"\"\"\n",
    "Consider the following linked list, where E is the cylce entry and X, the crossing point of fast and slow.\n",
    "        H: distance from head to cycle entry E\n",
    "        D: distance from E to X\n",
    "        L: cycle length\n",
    "                          _____\n",
    "                         /     \\\n",
    "        head_____H______E       \\\n",
    "                        \\       /\n",
    "                         X_____/   \n",
    "        \n",
    "    \n",
    "        If fast and slow both start at head, when fast catches slow, slow has traveled H+D and fast 2(H+D). \n",
    "        Assume fast has traveled n loops in the cycle, we have:\n",
    "        2H + 2D = H + D + L  -->  H + D = nL  --> H = nL - D\n",
    "        Thus if two pointers start from head and X, respectively, one first reaches E, the other also reaches E. \n",
    "\n",
    "\"\"\"\n",
    "# Definition for singly-linked list.\n",
    "# class ListNode(object):\n",
    "#     def __init__(self, x):\n",
    "#         self.val = x\n",
    "#         self.next = None\n",
    "\n",
    "class Solution(object):\n",
    "    def detectCycle(self, head):\n",
    "        \"\"\"\n",
    "        :type head: ListNode\n",
    "        :rtype: ListNode\n",
    "        \"\"\"\n",
    "        if head == None or head.next == None:\n",
    "            return None\n",
    "        slow = fast = head\n",
    "        while fast and fast.next:\n",
    "            slow = slow.next\n",
    "            fast = fast.next.next\n",
    "            if fast == slow:\n",
    "                break\n",
    "        if slow == fast:\n",
    "            slow = head\n",
    "            while slow != fast:\n",
    "                slow = slow.next\n",
    "                fast = fast.next\n",
    "            return slow\n",
    "        return None\n"
   ]
  }
 ],
 "metadata": {
  "kernelspec": {
   "display_name": "Python 3",
   "language": "python",
   "name": "python3"
  },
  "language_info": {
   "codemirror_mode": {
    "name": "ipython",
    "version": 3
   },
   "file_extension": ".py",
   "mimetype": "text/x-python",
   "name": "python",
   "nbconvert_exporter": "python",
   "pygments_lexer": "ipython3",
   "version": "3.6.7"
  }
 },
 "nbformat": 4,
 "nbformat_minor": 2
}
