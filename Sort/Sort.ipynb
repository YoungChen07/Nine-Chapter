{
 "cells": [
  {
   "cell_type": "markdown",
   "metadata": {},
   "source": [
    "### insertion sort "
   ]
  },
  {
   "cell_type": "code",
   "execution_count": 2,
   "metadata": {},
   "outputs": [],
   "source": [
    "def ins_sort(k):\n",
    "    for i in range(1,len(k)):    #since we want to swap an item with previous one, we start from 1\n",
    "        j = i                    #bcoz reducing i directly will mess our for loop, so we reduce its copy j instead\n",
    "        temp = k[j]              #temp will be used for comparison with previous items, and sent to the place it belongs\n",
    "        while j > 0 and temp < k[j-1]: #j>0 bcoz no point going till k[0] since there is no seat available on its left, for temp\n",
    "            k[j] = k[j-1] #Move the bigger item 1 step right to make room for temp\n",
    "            j=j-1 #take k[j] all the way left to the place where it has a smaller/no value to its left.\n",
    "        k[j] = temp\n",
    "    return k"
   ]
  },
  {
   "cell_type": "code",
   "execution_count": 3,
   "metadata": {},
   "outputs": [
    {
     "data": {
      "text/plain": [
       "[1, 3, 4, 5, 6, 7, 12, 15]"
      ]
     },
     "execution_count": 3,
     "metadata": {},
     "output_type": "execute_result"
    }
   ],
   "source": [
    "array=[12,4,5,6,7,3,1,15]\n",
    "ins_sort(array)"
   ]
  },
  {
   "cell_type": "code",
   "execution_count": null,
   "metadata": {},
   "outputs": [],
   "source": [
    "/* Function to sort an array using insertion sort*/\n",
    "void insertionSort(int arr[], int n) \n",
    "{ \n",
    "   int i, key, j; \n",
    "   for (i = 1; i < n; i++) \n",
    "   { \n",
    "       key = arr[i]; \n",
    "       j = i-1; \n",
    "  \n",
    "       /* Move elements of arr[0..i-1], that are \n",
    "          greater than key, to one position ahead \n",
    "          of their current position */\n",
    "       while (j >= 0 && arr[j] > key) \n",
    "       { \n",
    "           arr[j+1] = arr[j]; \n",
    "           j = j-1; \n",
    "       } \n",
    "       arr[j+1] = key; \n",
    "   } \n",
    "} "
   ]
  },
  {
   "cell_type": "markdown",
   "metadata": {},
   "source": [
    "### Quick sort"
   ]
  },
  {
   "cell_type": "code",
   "execution_count": 17,
   "metadata": {},
   "outputs": [],
   "source": [
    "def quicksort(array=[12,4,5,6,7,3,1,15]):\n",
    "    less = []\n",
    "    equal = []\n",
    "    greater = []\n",
    "    if len(array) > 1:\n",
    "        pivot = array[0]\n",
    "        for x in array:\n",
    "            if x < pivot:\n",
    "                less.append(x)\n",
    "            if x == pivot:\n",
    "                equal.append(x)\n",
    "            if x > pivot:\n",
    "                greater.append(x)\n",
    "        # Don't forget to return something!\n",
    "        return quicksort(less)+equal+quicksort(greater)  # Just use the + operator to join lists\n",
    "    # Note that you want equal ^^^^^ not pivot\n",
    "    else:  # You need to hande the part at the end of the recursion - when you only have one element in your array, just return the array.\n",
    "        return array"
   ]
  },
  {
   "cell_type": "code",
   "execution_count": 18,
   "metadata": {},
   "outputs": [
    {
     "data": {
      "text/plain": [
       "[1, 3, 4, 5, 6, 7, 12, 15]"
      ]
     },
     "execution_count": 18,
     "metadata": {},
     "output_type": "execute_result"
    }
   ],
   "source": [
    "quicksort()"
   ]
  },
  {
   "cell_type": "code",
   "execution_count": null,
   "metadata": {},
   "outputs": [],
   "source": [
    "int partition (int arr[], int low, int high) \n",
    "{ \n",
    "    int pivot = arr[high];    // pivot \n",
    "    int i = (low - 1);  // Index of smaller element \n",
    "  \n",
    "    for (int j = low; j <= high- 1; j++) \n",
    "    { \n",
    "        // If current element is smaller than or \n",
    "        // equal to pivot \n",
    "        if (arr[j] <= pivot) \n",
    "        { \n",
    "            i++;    // increment index of smaller element \n",
    "            swap(&arr[i], &arr[j]); \n",
    "        } \n",
    "    } \n",
    "    swap(&arr[i + 1], &arr[high]); \n",
    "    return (i + 1); \n",
    "} \n",
    "  \n",
    "/* The main function that implements QuickSort \n",
    " arr[] --> Array to be sorted, \n",
    "  low  --> Starting index, \n",
    "  high  --> Ending index */\n",
    "void quickSort(int arr[], int low, int high) \n",
    "{ \n",
    "    if (low < high) \n",
    "    { \n",
    "        /* pi is partitioning index, arr[p] is now \n",
    "           at right place */\n",
    "        int pi = partition(arr, low, high); \n",
    "  \n",
    "        // Separately sort elements before \n",
    "        // partition and after partition \n",
    "        quickSort(arr, low, pi - 1); \n",
    "        quickSort(arr, pi + 1, high); \n",
    "    } \n",
    "} "
   ]
  },
  {
   "cell_type": "markdown",
   "metadata": {},
   "source": [
    "### Merge Sort"
   ]
  },
  {
   "cell_type": "code",
   "execution_count": 11,
   "metadata": {},
   "outputs": [],
   "source": [
    "def merge(left, right):\n",
    "    result = []\n",
    "    i, j = 0, 0\n",
    "    while i < len(left) and j < len(right):\n",
    "        if left[i]<=right[j]:\n",
    "            result.append(left[i])\n",
    "            i += 1\n",
    "        else:\n",
    "            result.append(right[j])\n",
    "            j += 1\n",
    "    while i < len(left):\n",
    "        result.append(left[i])\n",
    "        i += 1\n",
    "    while j < len(right):\n",
    "        result.append(right[j])\n",
    "        j += 1\n",
    "    return result\n",
    "\n",
    "def mergeSort(L):\n",
    "    if len(L) < 2:\n",
    "        return L[:]\n",
    "    else:\n",
    "        middle = int(len(L) / 2)\n",
    "        left = mergeSort(L[:middle])\n",
    "        right = mergeSort(L[middle:])\n",
    "        return merge(left, right)"
   ]
  },
  {
   "cell_type": "code",
   "execution_count": 12,
   "metadata": {},
   "outputs": [
    {
     "data": {
      "text/plain": [
       "[1, 3, 4, 5, 6, 7, 12, 15]"
      ]
     },
     "execution_count": 12,
     "metadata": {},
     "output_type": "execute_result"
    }
   ],
   "source": [
    "mergeSort([12,4,5,6,7,3,1,15])"
   ]
  },
  {
   "cell_type": "code",
   "execution_count": null,
   "metadata": {},
   "outputs": [],
   "source": [
    "void Merge(int *a, int low, int high, int mid)\n",
    "{\n",
    "\t// We have low to mid and mid+1 to high already sorted.\n",
    "\tint i, j, k, temp[high-low+1];\n",
    "\ti = low;\n",
    "\tk = 0;\n",
    "\tj = mid + 1;\n",
    " \n",
    "\t// Merge the two parts into temp[].\n",
    "\twhile (i <= mid && j <= high)\n",
    "\t{\n",
    "\t\tif (a[i] < a[j])\n",
    "\t\t{\n",
    "\t\t\ttemp[k] = a[i];\n",
    "\t\t\tk++;\n",
    "\t\t\ti++;\n",
    "\t\t}\n",
    "\t\telse\n",
    "\t\t{\n",
    "\t\t\ttemp[k] = a[j];\n",
    "\t\t\tk++;\n",
    "\t\t\tj++;\n",
    "\t\t}\n",
    "\t}\n",
    " \n",
    "\t// Insert all the remaining values from i to mid into temp[].\n",
    "\twhile (i <= mid)\n",
    "\t{\n",
    "\t\ttemp[k] = a[i];\n",
    "\t\tk++;\n",
    "\t\ti++;\n",
    "\t}\n",
    " \n",
    "\t// Insert all the remaining values from j to high into temp[].\n",
    "\twhile (j <= high)\n",
    "\t{\n",
    "\t\ttemp[k] = a[j];\n",
    "\t\tk++;\n",
    "\t\tj++;\n",
    "\t}\n",
    " \n",
    " \n",
    "\t// Assign sorted data stored in temp[] to a[].\n",
    "\tfor (i = low; i <= high; i++)\n",
    "\t{\n",
    "\t\ta[i] = temp[i-low];\n",
    "\t}\n",
    "}\n",
    " \n",
    "// A function to split array into two parts.\n",
    "void MergeSort(int *a, int low, int high)\n",
    "{\n",
    "\tint mid;\n",
    "\tif (low < high)\n",
    "\t{\n",
    "\t\tmid=(low+high)/2;\n",
    "\t\t// Split the data into two half.\n",
    "\t\tMergeSort(a, low, mid);\n",
    "\t\tMergeSort(a, mid+1, high);\n",
    " \n",
    "\t\t// Merge them to get sorted output.\n",
    "\t\tMerge(a, low, high, mid);\n",
    "\t}\n",
    "}"
   ]
  },
  {
   "cell_type": "markdown",
   "metadata": {},
   "source": [
    "### Heapsort"
   ]
  },
  {
   "cell_type": "code",
   "execution_count": 13,
   "metadata": {},
   "outputs": [
    {
     "name": "stdout",
     "output_type": "stream",
     "text": [
      "Sorted array is\n",
      "5\n",
      "6\n",
      "7\n",
      "11\n",
      "12\n",
      "13\n"
     ]
    }
   ],
   "source": [
    "# Python program for implementation of heap Sort \n",
    "# To heapify subtree rooted at index i. \n",
    "# n is size of heap \n",
    "def heapify(arr, n, i): \n",
    "    largest = i # Initialize largest as root \n",
    "    l = 2 * i + 1     # left = 2*i + 1 \n",
    "    r = 2 * i + 2     # right = 2*i + 2 \n",
    "    # See if left child of root exists and is \n",
    "    # greater than root \n",
    "    if l < n and arr[i] < arr[l]: \n",
    "        largest = l \n",
    "    # See if right child of root exists and is \n",
    "    # greater than root \n",
    "    if r < n and arr[largest] < arr[r]: \n",
    "        largest = r \n",
    "    # Change root, if needed \n",
    "    if largest != i: \n",
    "        arr[i],arr[largest] = arr[largest],arr[i] # swap  \n",
    "        # Heapify the root. \n",
    "        heapify(arr, n, largest) \n",
    "  \n",
    "# The main function to sort an array of given size \n",
    "def heapSort(arr): \n",
    "    n = len(arr)  \n",
    "    # Build a maxheap. \n",
    "    for i in range(n, -1, -1): \n",
    "        heapify(arr, n, i) \n",
    "    # One by one extract elements \n",
    "    for i in range(n-1, 0, -1): \n",
    "        arr[i], arr[0] = arr[0], arr[i] # swap \n",
    "        heapify(arr, i, 0) \n",
    "  \n",
    "# Driver code to test above \n",
    "arr = [ 12, 11, 13, 5, 6, 7] \n",
    "heapSort(arr) \n",
    "n = len(arr) \n",
    "print (\"Sorted array is\") \n",
    "for i in range(n): \n",
    "    print (\"%d\" %arr[i])"
   ]
  },
  {
   "cell_type": "code",
   "execution_count": null,
   "metadata": {},
   "outputs": [],
   "source": [
    "void heapify(int arr[], int n, int i) \n",
    "{ \n",
    "    int largest = i; // Initialize largest as root \n",
    "    int l = 2*i + 1; // left = 2*i + 1 \n",
    "    int r = 2*i + 2; // right = 2*i + 2 \n",
    "  \n",
    "    // If left child is larger than root \n",
    "    if (l < n && arr[l] > arr[largest]) \n",
    "        largest = l; \n",
    "  \n",
    "    // If right child is larger than largest so far \n",
    "    if (r < n && arr[r] > arr[largest]) \n",
    "        largest = r; \n",
    "  \n",
    "    // If largest is not root \n",
    "    if (largest != i) \n",
    "    { \n",
    "        swap(arr[i], arr[largest]); \n",
    "  \n",
    "        // Recursively heapify the affected sub-tree \n",
    "        heapify(arr, n, largest); \n",
    "    } \n",
    "} \n",
    "  \n",
    "// main function to do heap sort \n",
    "void heapSort(int arr[], int n) \n",
    "{ \n",
    "    // Build heap (rearrange array) \n",
    "    for (int i = n / 2 - 1; i >= 0; i--) \n",
    "        heapify(arr, n, i); \n",
    "  \n",
    "    // One by one extract an element from heap \n",
    "    for (int i=n-1; i>=0; i--) \n",
    "    { \n",
    "        // Move current root to end \n",
    "        swap(arr[0], arr[i]); \n",
    "  \n",
    "        // call max heapify on the reduced heap \n",
    "        heapify(arr, i, 0); \n",
    "    } \n",
    "} "
   ]
  },
  {
   "cell_type": "markdown",
   "metadata": {},
   "source": [
    "### 215. Kth Largest Element in an Array\n",
    "\n",
    "https://leetcode.com/problems/kth-largest-element-in-an-array/description/\n",
    "\n",
    "Find the kth largest element in an unsorted array. Note that it is the kth largest element in the sorted order, not the kth distinct element.\n",
    "\n",
    "Example 1:\n",
    "\n",
    "Input: [3,2,1,5,6,4] and k = 2\n",
    "Output: 5\n",
    "Example 2:\n",
    "\n",
    "Input: [3,2,3,1,2,4,5,5,6] and k = 4\n",
    "Output: 4\n",
    "Note: \n",
    "You may assume k is always valid, 1 ≤ k ≤ array's length."
   ]
  },
  {
   "cell_type": "code",
   "execution_count": null,
   "metadata": {},
   "outputs": [],
   "source": [
    "class Solution(object):\n",
    "     def findKthLargest(self, A, k):\n",
    "        def find_kth():\n",
    "    \n",
    "            def partion_around_pivot(left, right, pivot_idx):\n",
    "                pivot_value = A[pivot_idx]\n",
    "                new_pivot_idex = left\n",
    "                A[pivot_idx], A[right] = A[right], A[pivot_idx]\n",
    "                for i in range(left,right):\n",
    "                    if A[i] > pivot_value:\n",
    "                        A[i], A[new_pivot_idex] = A[new_pivot_idex], A[i]\n",
    "                        new_pivot_idex += 1\n",
    "                A[right], A[new_pivot_idex]=A[new_pivot_idex], A[right]\n",
    "                return new_pivot_idex\n",
    "\n",
    "            left, right =0, len(A)-1\n",
    "            while left <= right:\n",
    "                pivot_idx = random.randint(left, right)\n",
    "                new_pivot_idex = partion_around_pivot(left, right, pivot_idx)\n",
    "                if new_pivot_idex == k-1:\n",
    "                    return A[new_pivot_idex]\n",
    "                elif new_pivot_idex > k-1:\n",
    "                    right = new_pivot_idex-1\n",
    "                else:\n",
    "                    left = new_pivot_idex+1\n",
    "        \n",
    "        return find_kth()"
   ]
  },
  {
   "cell_type": "code",
   "execution_count": null,
   "metadata": {},
   "outputs": [],
   "source": [
    "import heapq\n",
    "# min heap\n",
    "class Solution(object):\n",
    "    def findKthLargest(self, nums, k):\n",
    "        nums = [-num for num in nums]\n",
    "        heapq.heapify(nums)\n",
    "        res = float('inf')\n",
    "        for _ in range(k):\n",
    "            res = heapq.heappop(nums)\n",
    "        return -res"
   ]
  },
  {
   "cell_type": "code",
   "execution_count": null,
   "metadata": {},
   "outputs": [],
   "source": [
    "class Solution {\n",
    "public:\n",
    "    int findKthLargest(vector<int>& nums, int k) {\n",
    "        int left = 0, right = nums.size() - 1;\n",
    "        while (true) {\n",
    "            int p = partition(nums, left, right);\n",
    "            if (p == k - 1) {\n",
    "                return nums[p];\n",
    "            }\n",
    "            if (p > k - 1) {\n",
    "                right = p - 1;\n",
    "            } else {\n",
    "                left = p + 1;\n",
    "            }\n",
    "        }\n",
    "    }\n",
    "private:\n",
    "    int partition(vector<int>& nums, int left, int right) {\n",
    "        int pivot = nums[left], l = left + 1, r = right;\n",
    "        while (l <= r) {\n",
    "            if (nums[l] < pivot && nums[r] > pivot) {\n",
    "                swap(nums[l++], nums[r--]);\n",
    "            }\n",
    "            if (nums[l] >= pivot) {\n",
    "                l++;\n",
    "            }\n",
    "            if (nums[r] <= pivot) {\n",
    "                r--;\n",
    "            }\n",
    "        }\n",
    "        swap(nums[left], nums[r]);\n",
    "        return r;\n",
    "    }\n",
    "};"
   ]
  },
  {
   "cell_type": "code",
   "execution_count": null,
   "metadata": {},
   "outputs": [],
   "source": [
    "class Solution {\n",
    "public:\n",
    "    int findKthLargest(vector<int>& nums, int k) {\n",
    "        priority_queue<int> pq(nums.begin(), nums.end());\n",
    "        for (int i = 0; i < k - 1; i++) {\n",
    "            pq.pop();\n",
    "        }\n",
    "        return pq.top();\n",
    "    }\n",
    "};"
   ]
  }
 ],
 "metadata": {
  "kernelspec": {
   "display_name": "Python 3",
   "language": "python",
   "name": "python3"
  },
  "language_info": {
   "codemirror_mode": {
    "name": "ipython",
    "version": 3
   },
   "file_extension": ".py",
   "mimetype": "text/x-python",
   "name": "python",
   "nbconvert_exporter": "python",
   "pygments_lexer": "ipython3",
   "version": "3.6.7"
  }
 },
 "nbformat": 4,
 "nbformat_minor": 2
}
